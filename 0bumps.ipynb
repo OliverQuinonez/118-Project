{
 "cells": [
  {
   "cell_type": "code",
   "execution_count": 6,
   "metadata": {},
   "outputs": [],
   "source": [
    "import functools\n",
    "import pandas as pd\n",
    "import numpy as np\n",
    "import tqdm\n",
    "import seaborn as sns\n",
    "import xarray as xr\n",
    "import matplotlib.pyplot as plt\n",
    "from scipy.optimize import curve_fit\n",
    "import scipy.integrate as scint\n",
    "import scipy.interpolate as scinterp\n",
    "xr.set_options(keep_attrs=True)\n",
    "import cmath\n",
    "\n",
    "from Functions import *"
   ]
  },
  {
   "cell_type": "code",
   "execution_count": 12,
   "metadata": {},
   "outputs": [],
   "source": [
    "#WA_Scan = np.load(\"Savetest_WA.npy\")\n",
    "NA_Scan = np.load(\"SaveTest_NA.npy\")"
   ]
  },
  {
   "cell_type": "code",
   "execution_count": 22,
   "metadata": {},
   "outputs": [
    {
     "name": "stdout",
     "output_type": "stream",
     "text": [
      "[[[1.43853801e+29 0.00000000e+00]\n",
      "  [2.52003188e+35 0.00000000e+00]\n",
      "  [1.84387888e+36 0.00000000e+00]\n",
      "  [1.65530862e+36 0.00000000e+00]\n",
      "  [1.15984643e+36 0.00000000e+00]]\n",
      "\n",
      " [[2.50537991e+29 0.00000000e+00]\n",
      "  [1.14475078e+36 0.00000000e+00]\n",
      "  [2.82829991e+36 0.00000000e+00]\n",
      "  [1.99324291e+36 0.00000000e+00]\n",
      "  [1.26008301e+36 0.00000000e+00]]\n",
      "\n",
      " [[3.76291087e+29 0.00000000e+00]\n",
      "  [3.44646530e+36 0.00000000e+00]\n",
      "  [3.83706380e+36 0.00000000e+00]\n",
      "  [2.24378216e+36 0.00000000e+00]\n",
      "  [1.30004551e+36 0.00000000e+00]]\n",
      "\n",
      " [[5.23116514e+29 0.00000000e+00]\n",
      "  [6.64089077e+36 0.00000000e+00]\n",
      "  [4.71168116e+36 0.00000000e+00]\n",
      "  [2.37479768e+36 0.00000000e+00]\n",
      "  [1.27371929e+36 0.00000000e+00]]\n",
      "\n",
      " [[7.11124806e+29 0.00000000e+00]\n",
      "  [9.51359041e+36 0.00000000e+00]\n",
      "  [5.27824573e+36 0.00000000e+00]\n",
      "  [2.36709631e+36 0.00000000e+00]\n",
      "  [1.18519547e+36 0.00000000e+00]]]\n"
     ]
    }
   ],
   "source": [
    "print(NA_Scan)"
   ]
  },
  {
   "cell_type": "code",
   "execution_count": null,
   "metadata": {},
   "outputs": [],
   "source": []
  }
 ],
 "metadata": {
  "kernelspec": {
   "display_name": "base",
   "language": "python",
   "name": "python3"
  },
  "language_info": {
   "codemirror_mode": {
    "name": "ipython",
    "version": 3
   },
   "file_extension": ".py",
   "mimetype": "text/x-python",
   "name": "python",
   "nbconvert_exporter": "python",
   "pygments_lexer": "ipython3",
   "version": "3.11.5"
  }
 },
 "nbformat": 4,
 "nbformat_minor": 2
}
