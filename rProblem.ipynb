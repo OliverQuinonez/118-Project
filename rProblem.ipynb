{
 "cells": [
  {
   "cell_type": "code",
   "execution_count": 1,
   "metadata": {},
   "outputs": [],
   "source": [
    "import functools\n",
    "import pandas as pd\n",
    "import numpy as np\n",
    "import tqdm\n",
    "import seaborn as sns\n",
    "import xarray as xr\n",
    "import matplotlib.pyplot as plt\n",
    "from scipy.optimize import curve_fit\n",
    "import scipy.integrate as scint\n",
    "xr.set_options(keep_attrs=True)\n",
    "\n",
    "from Functions import *"
   ]
  },
  {
   "cell_type": "code",
   "execution_count": 2,
   "metadata": {},
   "outputs": [],
   "source": [
    "b= 0.023\n",
    "zR = b / 2     # [m] Rayleigh Range\n",
    "omega0 = np.sqrt(lambda_355 * zR / np.pi) # [m] Beam radius at the focus\n",
    "PXe = 25\n",
    "\n",
    "pulse_params = {'b' : b,            # [m] confocal parameter\n",
    "            'zR' : zR,           # [m] Rayleigh range\n",
    "            'omega0' : omega0,   # [m] beam waist at focus\n",
    "            'energy' : 0.017,       # [J] single pulse energy\n",
    "            'duration' : 7e-9}     # [s] single pulse length\n",
    "\n",
    "harm_params = {'sigma' : 1.5e-50,\n",
    "            'chi3' : 1.5e-35,\n",
    "            'PXe' : PXe}\n",
    "params = {**pulse_params, **harm_params}\n",
    "initial_vals = (nonzero, nonzero)\n",
    "\n",
    "zstart = -0.2\n",
    "zstop = 0.2\n",
    "zrange = (zstart, zstop)\n",
    "z = np.array(np.linspace(zstart, zstop, 1000,dtype = np.longdouble))\n",
    "\n",
    "rstop = 5*omega0\n",
    "r = np.linspace(0,rstop,10,dtype = np.longdouble)\n",
    "\n",
    "#sol = solve_diff_eq(dA118_dz_GBNA,params,zrange, initial_vals,z,r)\n",
    "\n",
    "\n",
    "    "
   ]
  },
  {
   "cell_type": "code",
   "execution_count": 3,
   "metadata": {},
   "outputs": [],
   "source": [
    "# plt.scatter(r,sol.beam_118.data[:,500])\n",
    "# plt.show()\n",
    "# plt.scatter(r,sol.beam_118.data[:,950])\n",
    "# plt.ylim(1.6e18,2.2e18)\n",
    "# plt.xlim(0,5*omega0)\n",
    "# plt.show()\n",
    "\n",
    "\n",
    "# Z,R = np.meshgrid(z,r)\n",
    "# plt.contourf(Z,R,sol.beam_118.data,64)\n",
    "\n",
    "# plt.ylim(0,5*omega0)\n",
    "# plt.xlim(zstart,zstop)\n",
    "# plt.xlabel('z (m)')\n",
    "# plt.ylabel('r (m)')\n",
    "# plt.title(\"$|A_{118}|$\")\n",
    "# plt.colorbar()\n",
    "# plt.show()"
   ]
  },
  {
   "cell_type": "code",
   "execution_count": 4,
   "metadata": {},
   "outputs": [],
   "source": [
    "# rstop = 6*omega0\n",
    "# r = np.linspace(0,rstop,10,dtype = np.longdouble)\n",
    "\n",
    "# sol_2 = solve_diff_eq(dA118_dz_GBNA,params,zrange, initial_vals,z,r)"
   ]
  },
  {
   "cell_type": "code",
   "execution_count": 5,
   "metadata": {},
   "outputs": [],
   "source": [
    "# plt.scatter(r,sol.beam_118.data[:,950])\n",
    "# plt.ylim(1.6e18,2.2e18)\n",
    "# plt.xlim(0,5*omega0)\n",
    "# plt.scatter(r,sol_2.beam_118.data[:,950])\n",
    "# plt.legend(['$5 \\omega_0$','$6 \\omega0$'])\n",
    "# plt.show()\n",
    "\n",
    "# Z,R = np.meshgrid(z,r)\n",
    "# plt.contourf(Z,R,sol_2.beam_118.data,64)\n",
    "\n",
    "# plt.ylim(0,6*omega0)\n",
    "# plt.xlim(zstart,zstop)\n",
    "# plt.xlabel('z (m)')\n",
    "# plt.ylabel('r (m)')\n",
    "# plt.title(\"$|A_{118}|$\")\n",
    "# plt.colorbar()\n",
    "# plt.show()"
   ]
  },
  {
   "cell_type": "markdown",
   "metadata": {},
   "source": [
    "## Interpolation Hypothesis"
   ]
  },
  {
   "cell_type": "code",
   "execution_count": 6,
   "metadata": {},
   "outputs": [],
   "source": [
    "# chi3 = params['chi3']\n",
    "# PXe = params['PXe'] * Torr_to_m3\n",
    "# k118 = 2*np.pi/(118*10**(-9))\n",
    "# b = params['b']\n",
    "\n",
    "# RightTerm_0 = np.zeros(len(z))\n",
    "# index = 0\n",
    "# for zval in z:\n",
    "#     RightTerm_0[index]= (1/2)*chi3*PXe*k118 * (amplitude_355(0,zval,params)**3) * np.cos((2*zval/b)-2*np.arctan2(2*zval/b,1)+phi3(zval,zstart,2/b,params))\n",
    "#     index += 1\n",
    "\n",
    "# plt.plot(z,RightTerm_0)\n",
    "# plt.xlabel('z')\n",
    "# plt.ylabel('Right Term')\n",
    "# plt.title('Right Term at r=0')\n",
    "\n"
   ]
  },
  {
   "cell_type": "code",
   "execution_count": 7,
   "metadata": {},
   "outputs": [],
   "source": [
    "# chi3 = params['chi3']\n",
    "# PXe = params['PXe'] * Torr_to_m3\n",
    "# k118 = 2*np.pi/(118*10**(-9))\n",
    "# b = params['b']\n",
    "\n",
    "# RightTerm_4 = np.zeros(len(z))\n",
    "# index = 0\n",
    "# for zval in z:\n",
    "#     RightTerm_4[index]= (1/2)*chi3*PXe*k118 * (amplitude_355(4*omega0,zval,params)**3) * np.cos((2*zval/b)-2*np.arctan2(2*zval/b,1)+phi3(zval,zstart,2/b,params))\n",
    "#     index += 1\n",
    "\n",
    "# plt.plot(z,RightTerm_4)\n",
    "# plt.xlabel('z')\n",
    "# plt.ylabel('Right Term')\n",
    "# plt.title('Right Term at r=4omega0')\n"
   ]
  },
  {
   "cell_type": "code",
   "execution_count": 8,
   "metadata": {},
   "outputs": [],
   "source": [
    "# chi3 = params['chi3']\n",
    "# PXe = params['PXe'] * Torr_to_m3\n",
    "# k118 = 2*np.pi/(118*10**(-9))\n",
    "# b = params['b']\n",
    "\n",
    "# RightTerm_0 = np.zeros(len(z))\n",
    "# index = 0\n",
    "# for zval in z:\n",
    "#     RightTerm_0[index]= (1/2)*chi3*PXe*k118 * (amplitude_355(0,zval,params)**3) * np.cos((2*zval/b)-2*np.arctan2(2*zval/b,1)+phi3_gauss_quad(zval,zstart,2/b,params))\n",
    "#     index += 1\n",
    "\n",
    "# plt.plot(z,RightTerm_0)\n",
    "# plt.xlabel('z')\n",
    "# plt.ylabel('Right Term')\n",
    "# plt.title('Right Term at r=0 with Gaussian Quadrature')\n",
    "\n"
   ]
  },
  {
   "cell_type": "code",
   "execution_count": 9,
   "metadata": {},
   "outputs": [],
   "source": [
    "# chi3 = params['chi3']\n",
    "# PXe = params['PXe'] * Torr_to_m3\n",
    "# k118 = 2*np.pi/(118*10**(-9))\n",
    "# b = params['b']\n",
    "\n",
    "# RightTerm_4 = np.zeros(len(z))\n",
    "# index = 0\n",
    "# for zval in z:\n",
    "#     RightTerm_4[index]= (1/2)*chi3*PXe*k118 * (amplitude_355(4*omega0,zval,params)**3) * np.cos((2*zval/b)-2*np.arctan2(2*zval/b,1)+phi3_gauss_quad(zval,zstart,2/b,params))\n",
    "#     index += 1\n",
    "\n",
    "# plt.plot(z,RightTerm_4)\n",
    "# plt.xlabel('z')\n",
    "# plt.ylabel('Right Term')\n",
    "# plt.title('Right Term at r=4omega0 with Gaussian Quadrature')\n",
    "\n"
   ]
  },
  {
   "cell_type": "code",
   "execution_count": 12,
   "metadata": {},
   "outputs": [],
   "source": [
    "dk = 2/b\n",
    "ReJ3= np.zeros(len(z))\n",
    "index = 0\n",
    "for zval in z:\n",
    "    ReJ3[index]= ReJ3_gauss_quad(zval,zstart,dk,params)\n",
    "    index += 1\n",
    "\n",
    "ImJ3= np.zeros(len(z))\n",
    "index = 0\n",
    "for zval in z:\n",
    "    ImJ3[index]= ImJ3_gauss_quad(zval,zstart,dk,params)\n",
    "    index += 1    "
   ]
  },
  {
   "cell_type": "code",
   "execution_count": 14,
   "metadata": {},
   "outputs": [
    {
     "data": {
      "image/png": "[encoded data removed]",
      "text/plain": [
       "<Figure size 640x480 with 1 Axes>"
      ]
     },
     "metadata": {},
     "output_type": "display_data"
    },
    {
     "data": {
      "text/plain": [
       "[<matplotlib.lines.Line2D at 0x132038d90>]"
      ]
     },
     "execution_count": 14,
     "metadata": {},
     "output_type": "execute_result"
    },
    {
     "data": {
      "image/png": "[encoded data removed]",
      "text/plain": [
       "<Figure size 640x480 with 1 Axes>"
      ]
     },
     "metadata": {},
     "output_type": "display_data"
    }
   ],
   "source": [
    "dk = 2/b\n",
    "plt.plot(z,evalRef(z,2/b,params))\n",
    "plt.plot(z,ReJ3)\n",
    "plt.show()\n",
    "\n",
    "plt.plot(z,evalImf(z,2/b,params))\n",
    "plt.plot(z,ImJ3)"
   ]
  },
  {
   "cell_type": "code",
   "execution_count": null,
   "metadata": {},
   "outputs": [],
   "source": []
  },
  {
   "cell_type": "code",
   "execution_count": null,
   "metadata": {},
   "outputs": [],
   "source": []
  }
 ],
 "metadata": {
  "kernelspec": {
   "display_name": "base",
   "language": "python",
   "name": "python3"
  },
  "language_info": {
   "codemirror_mode": {
    "name": "ipython",
    "version": 3
   },
   "file_extension": ".py",
   "mimetype": "text/x-python",
   "name": "python",
   "nbconvert_exporter": "python",
   "pygments_lexer": "ipython3",
   "version": "3.11.5"
  }
 },
 "nbformat": 4,
 "nbformat_minor": 2
}
