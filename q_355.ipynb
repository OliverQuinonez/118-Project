{
 "cells": [
  {
   "cell_type": "code",
   "execution_count": 1,
   "metadata": {},
   "outputs": [],
   "source": [
    "import numpy as np\n",
    "import matplotlib.pyplot as plt\n",
    "import cmath\n",
    "\n",
    "from Functions import *"
   ]
  },
  {
   "cell_type": "code",
   "execution_count": 12,
   "metadata": {},
   "outputs": [],
   "source": [
    "b= 0.023\n",
    "zR = b / 2     # [m] Rayleigh Range\n",
    "omega0 = np.sqrt(lambda_355 * zR / np.pi) # [m] Beam radius at the focus\n",
    "\n",
    "params = {'b' : b,            # [m] confocal parameter\n",
    "          'zR' : zR,           # [m] Rayleigh range\n",
    "          'omega0' : omega0,    # [m] beam waist at focus\n",
    "          'lambda' : lambda_355}"
   ]
  },
  {
   "cell_type": "code",
   "execution_count": 36,
   "metadata": {},
   "outputs": [],
   "source": [
    "def free_space(q1,z):\n",
    "    return q1+z\n",
    "\n",
    "def thin_lens(q1,f):\n",
    "    q2 = 1/((1/q1)-(1/f))\n",
    "    return q2\n",
    "\n",
    "def q_to_params(q,params):\n",
    "    wavelength = params['lambda']\n",
    "    q_inv = 1/q\n",
    "    Im_q_inv = q_inv.imag\n",
    "    Re_q = q.real\n",
    "    omega_final = np.sqrt(-wavelength/(np.pi*Im_q_inv))\n",
    "    focus_final = Re_q\n",
    "\n",
    "    print('positon relative to focus: ',focus_final,'[m]')\n",
    "    print(\"beam spot size: \", omega_final,'[m]')\n"
   ]
  },
  {
   "cell_type": "code",
   "execution_count": 37,
   "metadata": {},
   "outputs": [
    {
     "name": "stdout",
     "output_type": "stream",
     "text": [
      "Before Lens\n",
      "positon relative to focus:  0.75 [m]\n",
      "beam spot size:  0.00235127069528085 [m]\n",
      "After Lens\n",
      "positon relative to focus:  -1.4978884680017084 [m]\n",
      "beam spot size:  0.00235127069528085 [m]\n"
     ]
    }
   ],
   "source": [
    "omega0 = params['omega0']\n",
    "zR = params['zR']\n",
    "L = 0.75 # [m] before first lens\n",
    "\n",
    "f1 = 50e-2 #[m] focal length\n",
    "\n",
    "q_inital = complex(0,zR) # i*zR\n",
    "\n",
    "q0 = free_space(q_inital,L)\n",
    "print('Before Lens')\n",
    "q_to_params(q0,params)\n",
    "\n",
    "q_final =thin_lens(q0,f1) #propagation through thin lens\n",
    "print('After Lens')\n",
    "q_to_params(q_final,params)\n"
   ]
  },
  {
   "cell_type": "code",
   "execution_count": null,
   "metadata": {},
   "outputs": [],
   "source": []
  }
 ],
 "metadata": {
  "kernelspec": {
   "display_name": "base",
   "language": "python",
   "name": "python3"
  },
  "language_info": {
   "codemirror_mode": {
    "name": "ipython",
    "version": 3
   },
   "file_extension": ".py",
   "mimetype": "text/x-python",
   "name": "python",
   "nbconvert_exporter": "python",
   "pygments_lexer": "ipython3",
   "version": "3.11.5"
  }
 },
 "nbformat": 4,
 "nbformat_minor": 2
}
