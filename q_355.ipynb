{
 "cells": [
  {
   "cell_type": "code",
   "execution_count": 1,
   "metadata": {},
   "outputs": [],
   "source": [
    "import numpy as np\n",
    "import matplotlib.pyplot as plt\n",
    "import cmath\n",
    "\n",
    "from Functions import *"
   ]
  },
  {
   "cell_type": "code",
   "execution_count": null,
   "metadata": {},
   "outputs": [],
   "source": []
  },
  {
   "cell_type": "code",
   "execution_count": 2,
   "metadata": {},
   "outputs": [],
   "source": [
    "omega0 = 0.5e-2 # [m] Beam radius at the focus\n",
    "b= 2*np.pi*omega0**2/lambda_355 # NOTE: this is initial b from output of laser\n",
    "zR = b / 2     # [m] Rayleigh Range\n",
    "\n",
    "\n",
    "params = {'b' : b,            # [m] confocal parameter\n",
    "          'zR' : zR,           # [m] Rayleigh range\n",
    "          'omega0' : omega0,    # [m] beam waist at focus\n",
    "          'lambda' : lambda_355}"
   ]
  },
  {
   "cell_type": "code",
   "execution_count": 3,
   "metadata": {},
   "outputs": [
    {
     "data": {
      "text/plain": [
       "442.4778385337737"
      ]
     },
     "execution_count": 3,
     "metadata": {},
     "output_type": "execute_result"
    }
   ],
   "source": [
    "b"
   ]
  },
  {
   "cell_type": "code",
   "execution_count": 5,
   "metadata": {},
   "outputs": [],
   "source": [
    "def free_space(q1,z):\n",
    "    return q1+z\n",
    "\n",
    "def thin_lens(q1,f):\n",
    "    q2 = 1/((1/q1)-(1/f))\n",
    "    return q2\n",
    "\n",
    "def q_to_params(q,params):\n",
    "    wavelength = params['lambda']\n",
    "    q_inv = 1/q\n",
    "    Im_q_inv = q_inv.imag\n",
    "    Re_q = q.real\n",
    "    omega_final = np.sqrt(-wavelength/(np.pi*Im_q_inv))\n",
    "    focus_final = Re_q\n",
    "\n",
    "    print('positon relative to focus: ',focus_final,'[m]')\n",
    "    print(\"beam spot size: \", omega_final,'[m]')\n"
   ]
  },
  {
   "cell_type": "code",
   "execution_count": 10,
   "metadata": {},
   "outputs": [
    {
     "name": "stdout",
     "output_type": "stream",
     "text": [
      "Inital\n",
      "positon relative to focus:  0.0 [m]\n",
      "beam spot size:  0.005 [m]\n",
      "After 0.75 [m] of free space propagation\n",
      "positon relative to focus:  0.75 [m]\n",
      "beam spot size:  0.005000028730172337 [m]\n",
      "After propagation through f=50cm lens\n",
      "positon relative to focus:  -0.5000012768985863 [m]\n",
      "beam spot size:  0.005000028730172337 [m]\n"
     ]
    },
    {
     "data": {
      "text/plain": [
       "[<matplotlib.lines.Line2D at 0x13023b710>]"
      ]
     },
     "execution_count": 10,
     "metadata": {},
     "output_type": "execute_result"
    },
    {
     "data": {
      "image/png": "[encoded data removed]",
      "text/plain": [
       "<Figure size 640x480 with 1 Axes>"
      ]
     },
     "metadata": {},
     "output_type": "display_data"
    }
   ],
   "source": [
    "\n",
    "zR = params['zR']\n",
    "L = 0.75 # [m] before first lens\n",
    "f1 = 50e-2 #[m] focal length\n",
    "q_inital = complex(0,zR) # i*zR\n",
    "\n",
    "print('Inital')\n",
    "q_to_params(q_inital,params)\n",
    "\n",
    "q0 = free_space(q_inital,L)\n",
    "print('After 0.75 [m] of free space propagation')\n",
    "q_to_params(q0,params)\n",
    "\n",
    "q_final =thin_lens(q0,f1) #propagation through thin lens\n",
    "print('After propagation through f=50cm lens')\n",
    "q_to_params(q_final,params)\n",
    "\n",
    "z = np.linspace(0,1)\n",
    "q_after = lambda x: free_space(q_final,x)\n",
    "q_inv = 1/q_after(z)\n",
    "plt.plot(z,1/q_inv.imag)\n",
    "plt.plot(z,1/q_inv.real)\n"
   ]
  },
  {
   "cell_type": "code",
   "execution_count": 81,
   "metadata": {},
   "outputs": [
    {
     "name": "stdout",
     "output_type": "stream",
     "text": [
      "Initial\n",
      "positon relative to focus:  0.0 [m]\n",
      "beam spot size:  0.0003604857986586053 [m]\n",
      "After propagation through f=50cm lens\n",
      "positon relative to focus:  -0.4205087440381558 [m]\n",
      "beam spot size:  0.0003604857986586053 [m]\n"
     ]
    }
   ],
   "source": [
    "omega0 = params['omega0']\n",
    "zR = params['zR']\n",
    "L = 0.75 # [m] before first lens\n",
    "f1 = 0.5 #[m] focal length\n",
    "q_inital = complex(0,zR) # i*zR\n",
    "\n",
    "print('Initial')\n",
    "q_to_params(q_inital,params) \n",
    "\n",
    "q_final=thin_lens(q_inital,f1) #propagation through thin lens\n",
    "print('After propagation through f=50cm lens')\n",
    "q_to_params(q_final,params)\n",
    "\n"
   ]
  },
  {
   "cell_type": "code",
   "execution_count": 82,
   "metadata": {},
   "outputs": [
    {
     "name": "stdout",
     "output_type": "stream",
     "text": [
      "Initial\n",
      "positon relative to focus:  0.0 [m]\n",
      "beam spot size:  0.0003604857986586053 [m]\n",
      "After 1 zR of free space propagation\n",
      "positon relative to focus:  1.15 [m]\n",
      "beam spot size:  0.0005098039055058965 [m]\n",
      "After propagation through f=50cm lens\n",
      "positon relative to focus:  -0.4205087440381558 [m]\n",
      "beam spot size:  0.0003604857986586053 [m]\n"
     ]
    }
   ],
   "source": [
    "omega0 = params['omega0']\n",
    "zR = params['zR']\n",
    "L = 0.75 # [m] before first lens\n",
    "f1 = 50e-2 #[m] focal length\n",
    "\n",
    "q_inital = complex(0,zR) # i*zR\n",
    "print('Initial')\n",
    "q_to_params(q_inital,params) \n",
    "\n",
    "q1 = free_space(q_inital,zR)\n",
    "print('After 1 zR of free space propagation')\n",
    "q_to_params(q1,params)\n",
    "\n",
    "\n",
    "q_final=thin_lens(q_inital,f1) #propagation through thin lens\n",
    "print('After propagation through f=50cm lens')\n",
    "q_to_params(q_final,params)\n"
   ]
  }
 ],
 "metadata": {
  "kernelspec": {
   "display_name": "base",
   "language": "python",
   "name": "python3"
  },
  "language_info": {
   "codemirror_mode": {
    "name": "ipython",
    "version": 3
   },
   "file_extension": ".py",
   "mimetype": "text/x-python",
   "name": "python",
   "nbconvert_exporter": "python",
   "pygments_lexer": "ipython3",
   "version": "3.11.5"
  }
 },
 "nbformat": 4,
 "nbformat_minor": 2
}
