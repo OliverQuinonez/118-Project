{
 "cells": [
  {
   "cell_type": "code",
   "execution_count": 1,
   "metadata": {},
   "outputs": [],
   "source": [
    "import functools\n",
    "import pandas as pd\n",
    "import numpy as np\n",
    "import tqdm\n",
    "import seaborn as sns\n",
    "import xarray as xr\n",
    "import matplotlib.pyplot as plt\n",
    "from scipy.optimize import curve_fit\n",
    "import scipy.integrate as scint\n",
    "import scipy.interpolate as scinterp\n",
    "xr.set_options(keep_attrs=True)\n",
    "import cmath\n",
    "\n",
    "from Functions import *"
   ]
  },
  {
   "cell_type": "code",
   "execution_count": 2,
   "metadata": {},
   "outputs": [],
   "source": [
    "b=((2*np.pi)/lambda_355)*(0.5e-2)**2\n",
    "omega0 = 0.5e-2\n",
    "zR = b / 2     # [m] Rayleigh Range\n",
    "\n",
    "\n",
    "\n",
    "pulse_params = {'b' : 0.2,            # [m] confocal parameter\n",
    "            'energy' : 15e-3,       # [J] single pulse energy original\n",
    "            'duration' : 7e-9,\n",
    "            'PXe':25,\n",
    "            'dk': -1}     # [s] single pulse length\n",
    "\n",
    "harm_params = {'alpha' : 8.20839154e-48, #value from fit 'alpha' : 8.20839154e-48,\n",
    "            'chi3' : 1.5e-35}   #value from fit: 1.5e-35\n",
    "\n",
    "zstart = -0.2\n",
    "zstop =0.2\n",
    "zsamples = 1000\n",
    "zrange = (zstart, zstop)\n",
    "z = np.array(np.linspace(zstart, zstop, zsamples,dtype = np.longdouble))\n",
    "\n",
    "rstop = 10*omega0\n",
    "rsamples = 10000\n",
    "r = np.linspace(0,rstop,rsamples,dtype = np.longdouble)\n",
    "\n",
    "\n",
    "sol_params_WA = {'func': curly_GBWA,\n",
    "              'initial_vals': (nonzero, nonzero),\n",
    "              'zstart': zstart,\n",
    "              'zstop': zstop,\n",
    "              'zsamples': zsamples,\n",
    "              'z': z,\n",
    "              'r': r,\n",
    "              'rstop': rstop,\n",
    "              'rsamples': rsamples}\n",
    "\n",
    "params_WA = {**pulse_params, **harm_params, **sol_params_WA}\n"
   ]
  },
  {
   "cell_type": "code",
   "execution_count": 3,
   "metadata": {},
   "outputs": [],
   "source": [
    "single_func = functools.partial(calc_118_and_fluor,\n",
    "                                zrange=zrange,\n",
    "                                init_vals=[1e-10,1e-10,1e-10],\n",
    "                                t_eval=z)"
   ]
  },
  {
   "cell_type": "code",
   "execution_count": 4,
   "metadata": {},
   "outputs": [
    {
     "data": {
      "text/plain": [
       "(0.0003616003262101672, 0.009040185458482704)"
      ]
     },
     "execution_count": 4,
     "metadata": {},
     "output_type": "execute_result"
    }
   ],
   "source": [
    "f_to_b(0.5e-2,20e-2),f_to_b(0.5e-2,100e-2)"
   ]
  },
  {
   "cell_type": "code",
   "execution_count": null,
   "metadata": {},
   "outputs": [],
   "source": [
    "dksamples = 50\n",
    "dkrange = (0.01,40)# confocal perameter [m] (corresponds to f=20cm to f=100cm)\n",
    "dk = np.linspace(dkrange[0], dkrange[1], dksamples)\n",
    "dkscan = xr.DataArray(dk,\n",
    "                     dims = 'b',\n",
    "                     attrs = {'units': 'm',\n",
    "                              'long_name': \"Confocal parameter\"})\n",
    "\n",
    "single_func = functools.partial(calc_118_and_fluor,\n",
    "                                zrange=zrange,\n",
    "                                init_vals=[1e-10,1e-10,1e-10],\n",
    "                                t_eval=z)\n",
    "\n",
    "dk_scan = scan_builder(single_func, params_WA, [dkscan])"
   ]
  },
  {
   "cell_type": "code",
   "execution_count": 6,
   "metadata": {},
   "outputs": [
    {
     "name": "stdout",
     "output_type": "stream",
     "text": [
      "0.0\n"
     ]
    },
    {
     "name": "stderr",
     "output_type": "stream",
     "text": [
      "d:\\118_Project\\118-Project\\Functions.py:54: RuntimeWarning: divide by zero encountered in scalar divide\n",
      "  return omega0 * np.sqrt(1+(z/zR)**2)\n",
      "d:\\118_Project\\118-Project\\Functions.py:54: RuntimeWarning: invalid value encountered in scalar multiply\n",
      "  return omega0 * np.sqrt(1+(z/zR)**2)\n",
      "d:\\118_Project\\118-Project\\Functions.py:67: RuntimeWarning: divide by zero encountered in scalar divide\n",
      "  return energy / ((np.pi * omega0**2) * duration)\n",
      "d:\\118_Project\\118-Project\\Functions.py:173: RuntimeWarning: divide by zero encountered in scalar divide\n",
      "  * np.cos((dk*z)-2*np.arctan2(2*z/b,1) + evalPhi3(z,z0,params))\\\n",
      "d:\\118_Project\\118-Project\\Functions.py:95: RuntimeWarning: divide by zero encountered in scalar divide\n",
      "  Ref1 = lambda x: (1/(1+ (2*x/b)**2)**2) * (1-(2*x/b)**2) #times cos(dk*x)\n",
      "d:\\118_Project\\118-Project\\Functions.py:95: RuntimeWarning: invalid value encountered in scalar multiply\n",
      "  Ref1 = lambda x: (1/(1+ (2*x/b)**2)**2) * (1-(2*x/b)**2) #times cos(dk*x)\n",
      "d:\\118_Project\\118-Project\\Functions.py:97: IntegrationWarning: The occurrence of roundoff error is detected, which prevents \n",
      "  the requested tolerance from being achieved.  The error may be \n",
      "  underestimated.\n",
      "  I1 = scint.quad(Ref1,z0,z,weight ='cos',wvar = dk,limit =10000)\n",
      "d:\\118_Project\\118-Project\\Functions.py:96: RuntimeWarning: divide by zero encountered in scalar divide\n",
      "  Ref2 = lambda x: (1/(1+ (2*x/b)**2)**2) * (2*(2*x/b)) #times sin(dk*x)\n",
      "d:\\118_Project\\118-Project\\Functions.py:96: RuntimeWarning: invalid value encountered in scalar multiply\n",
      "  Ref2 = lambda x: (1/(1+ (2*x/b)**2)**2) * (2*(2*x/b)) #times sin(dk*x)\n",
      "d:\\118_Project\\118-Project\\Functions.py:98: IntegrationWarning: The occurrence of roundoff error is detected, which prevents \n",
      "  the requested tolerance from being achieved.  The error may be \n",
      "  underestimated.\n",
      "  I2 = scint.quad(Ref2,z0,z, weight = 'sin', wvar =dk, limit = 10000)\n",
      "d:\\118_Project\\118-Project\\Functions.py:106: RuntimeWarning: divide by zero encountered in scalar divide\n",
      "  Imf1 = lambda x: (1/(1+(2*x/b)**2)**2) * (1-(2*x/b)**2) #times sin(dk*x)\n",
      "d:\\118_Project\\118-Project\\Functions.py:106: RuntimeWarning: invalid value encountered in scalar multiply\n",
      "  Imf1 = lambda x: (1/(1+(2*x/b)**2)**2) * (1-(2*x/b)**2) #times sin(dk*x)\n",
      "d:\\118_Project\\118-Project\\Functions.py:108: IntegrationWarning: The occurrence of roundoff error is detected, which prevents \n",
      "  the requested tolerance from being achieved.  The error may be \n",
      "  underestimated.\n",
      "  I1 = scint.quad(Imf1,z0,z, weight = 'sin', wvar = dk,limit=10000)\n",
      "d:\\118_Project\\118-Project\\Functions.py:107: RuntimeWarning: divide by zero encountered in scalar divide\n",
      "  Imf2 = lambda x: (1/(1+(2*x/b)**2)**2)* (-(2*(2*x/b))) #times *np.cos(dk*x))\n",
      "d:\\118_Project\\118-Project\\Functions.py:107: RuntimeWarning: invalid value encountered in scalar multiply\n",
      "  Imf2 = lambda x: (1/(1+(2*x/b)**2)**2)* (-(2*(2*x/b))) #times *np.cos(dk*x))\n",
      "d:\\118_Project\\118-Project\\Functions.py:109: IntegrationWarning: The occurrence of roundoff error is detected, which prevents \n",
      "  the requested tolerance from being achieved.  The error may be \n",
      "  underestimated.\n",
      "  I2 = scint.quad(Imf2,z0,z, weight = 'cos', wvar = dk,limit = 10000)\n",
      "d:\\118_Project\\118-Project\\Functions.py:97: IntegrationWarning: Extremely bad integrand behavior occurs at some points of the\n",
      "  integration interval.\n",
      "  I1 = scint.quad(Ref1,z0,z,weight ='cos',wvar = dk,limit =10000)\n",
      "d:\\118_Project\\118-Project\\Functions.py:98: IntegrationWarning: Extremely bad integrand behavior occurs at some points of the\n",
      "  integration interval.\n",
      "  I2 = scint.quad(Ref2,z0,z, weight = 'sin', wvar =dk, limit = 10000)\n",
      "d:\\118_Project\\118-Project\\Functions.py:108: IntegrationWarning: Extremely bad integrand behavior occurs at some points of the\n",
      "  integration interval.\n",
      "  I1 = scint.quad(Imf1,z0,z, weight = 'sin', wvar = dk,limit=10000)\n",
      "d:\\118_Project\\118-Project\\Functions.py:109: IntegrationWarning: Extremely bad integrand behavior occurs at some points of the\n",
      "  integration interval.\n",
      "  I2 = scint.quad(Imf2,z0,z, weight = 'cos', wvar = dk,limit = 10000)\n"
     ]
    },
    {
     "ename": "ValueError",
     "evalue": "array must not contain infs or NaNs",
     "output_type": "error",
     "traceback": [
      "\u001b[1;31m---------------------------------------------------------------------------\u001b[0m",
      "\u001b[1;31mValueError\u001b[0m                                Traceback (most recent call last)",
      "Cell \u001b[1;32mIn[6], line 1\u001b[0m\n\u001b[1;32m----> 1\u001b[0m scanned_WA \u001b[38;5;241m=\u001b[39m dk_scan(params\u001b[38;5;241m=\u001b[39mparams_WA)\n",
      "File \u001b[1;32md:\\118_Project\\118-Project\\Functions.py:264\u001b[0m, in \u001b[0;36mscan_parameter_1D_ODE\u001b[1;34m(param_scan_func, params, scan_range)\u001b[0m\n\u001b[0;32m    262\u001b[0m     params[scan_range\u001b[38;5;241m.\u001b[39mdims[\u001b[38;5;241m0\u001b[39m]] \u001b[38;5;241m=\u001b[39m param_val\n\u001b[0;32m    263\u001b[0m     \u001b[38;5;66;03m# print('params[scan_range.dims[0]] after: ',params[scan_range.dims[0]])\u001b[39;00m\n\u001b[1;32m--> 264\u001b[0m     new_data\u001b[38;5;241m.\u001b[39mappend(param_scan_func(params\u001b[38;5;241m=\u001b[39mparams))\n\u001b[0;32m    265\u001b[0m     \u001b[38;5;66;03m# print(new_data)\u001b[39;00m\n\u001b[0;32m    267\u001b[0m old_coords \u001b[38;5;241m=\u001b[39m \u001b[38;5;28mlist\u001b[39m(new_data[\u001b[38;5;241m0\u001b[39m]\u001b[38;5;241m.\u001b[39mdims)\n",
      "File \u001b[1;32md:\\118_Project\\118-Project\\Functions.py:297\u001b[0m, in \u001b[0;36mcalc_118_and_fluor\u001b[1;34m(params, zrange, init_vals, t_eval)\u001b[0m\n\u001b[0;32m    291\u001b[0m     r \u001b[38;5;241m=\u001b[39m params[\u001b[38;5;124m'\u001b[39m\u001b[38;5;124mr\u001b[39m\u001b[38;5;124m'\u001b[39m]\n\u001b[0;32m    292\u001b[0m \u001b[38;5;66;03m#     print(\"params[func]:\",params[\"func\"])\u001b[39;00m\n\u001b[0;32m    293\u001b[0m \u001b[38;5;66;03m#     print(\"diff_eqs[params[func]]:\",diff_eqs[params[\"func\"]])\u001b[39;00m\n\u001b[0;32m    294\u001b[0m \u001b[38;5;66;03m#     print(\"func:\", func)\u001b[39;00m\n\u001b[1;32m--> 297\u001b[0m     sol \u001b[38;5;241m=\u001b[39m solve_diff_eq(func,params, zrange, initial_vals, z,r)\n\u001b[0;32m    299\u001b[0m     detected_118 \u001b[38;5;241m=\u001b[39m (\u001b[38;5;241m1\u001b[39m\u001b[38;5;241m/\u001b[39m\u001b[38;5;241m4\u001b[39m)\u001b[38;5;241m*\u001b[39mnp\u001b[38;5;241m.\u001b[39msqrt((\u001b[38;5;241m2\u001b[39m\u001b[38;5;241m*\u001b[39mnp\u001b[38;5;241m.\u001b[39mpi)\u001b[38;5;241m/\u001b[39m\u001b[38;5;241m3\u001b[39m) \u001b[38;5;241m*\u001b[39m (sol\u001b[38;5;241m.\u001b[39mbeam_118[\u001b[38;5;241m-\u001b[39m\u001b[38;5;241m1\u001b[39m])\u001b[38;5;241m*\u001b[39m\u001b[38;5;241m*\u001b[39m\u001b[38;5;241m2\u001b[39m \u001b[38;5;241m*\u001b[39m (omega0\u001b[38;5;241m*\u001b[39m\u001b[38;5;241m*\u001b[39m\u001b[38;5;241m2\u001b[39m\u001b[38;5;241m/\u001b[39mbeam_radius(zstop,params))\n\u001b[0;32m    301\u001b[0m     \u001b[38;5;66;03m#fluor_low, fluor_high = params['fluor_detect_window']\u001b[39;00m\n\u001b[0;32m    302\u001b[0m     \u001b[38;5;66;03m#in_window = ((t_eval>=fluor_low) * (t_eval<=fluor_high)).astype(int)\u001b[39;00m\n\u001b[0;32m    303\u001b[0m     \u001b[38;5;66;03m#fluorescence = sum((data.fluor*in_window)**2)\u001b[39;00m\n\u001b[1;32m   (...)\u001b[0m\n\u001b[0;32m    312\u001b[0m     \u001b[38;5;66;03m#                             't_eval': t_eval,\u001b[39;00m\n\u001b[0;32m    313\u001b[0m     \u001b[38;5;66;03m#                             'func': func.__name__})\u001b[39;00m\n",
      "File \u001b[1;32md:\\118_Project\\118-Project\\Functions.py:206\u001b[0m, in \u001b[0;36msolve_diff_eq\u001b[1;34m(func, params, zrange, init_vals, z_eval, r_eval)\u001b[0m\n\u001b[0;32m    202\u001b[0m (zstart, zstop) \u001b[38;5;241m=\u001b[39m zrange\n\u001b[0;32m    204\u001b[0m \u001b[38;5;28mprint\u001b[39m(b)\n\u001b[1;32m--> 206\u001b[0m sol \u001b[38;5;241m=\u001b[39m scint\u001b[38;5;241m.\u001b[39msolve_ivp(functools\u001b[38;5;241m.\u001b[39mpartial(func,zstart\u001b[38;5;241m+\u001b[39mnonzero,params\u001b[38;5;241m=\u001b[39mparams), \n\u001b[0;32m    207\u001b[0m                     zrange, init_vals, t_eval\u001b[38;5;241m=\u001b[39mz_eval,method \u001b[38;5;241m=\u001b[39m\u001b[38;5;124m'\u001b[39m\u001b[38;5;124mRadau\u001b[39m\u001b[38;5;124m'\u001b[39m,atol\u001b[38;5;241m=\u001b[39m\u001b[38;5;241m10e-8\u001b[39m,rtol\u001b[38;5;241m=\u001b[39m\u001b[38;5;241m1e-4\u001b[39m)\n\u001b[0;32m    210\u001b[0m \u001b[38;5;66;03m#beam_118_array = np.zeros((rsamples,zsamples),np.longdouble)#initalize beam and flourescene arrays\u001b[39;00m\n\u001b[0;32m    211\u001b[0m fluor_array \u001b[38;5;241m=\u001b[39m np\u001b[38;5;241m.\u001b[39mzeros(zsamples,np\u001b[38;5;241m.\u001b[39mlongdouble)\n",
      "File \u001b[1;32md:\\Anaconda\\Lib\\site-packages\\scipy\\integrate\\_ivp\\ivp.py:602\u001b[0m, in \u001b[0;36msolve_ivp\u001b[1;34m(fun, t_span, y0, method, t_eval, dense_output, events, vectorized, args, **options)\u001b[0m\n\u001b[0;32m    600\u001b[0m status \u001b[38;5;241m=\u001b[39m \u001b[38;5;28;01mNone\u001b[39;00m\n\u001b[0;32m    601\u001b[0m \u001b[38;5;28;01mwhile\u001b[39;00m status \u001b[38;5;129;01mis\u001b[39;00m \u001b[38;5;28;01mNone\u001b[39;00m:\n\u001b[1;32m--> 602\u001b[0m     message \u001b[38;5;241m=\u001b[39m solver\u001b[38;5;241m.\u001b[39mstep()\n\u001b[0;32m    604\u001b[0m     \u001b[38;5;28;01mif\u001b[39;00m solver\u001b[38;5;241m.\u001b[39mstatus \u001b[38;5;241m==\u001b[39m \u001b[38;5;124m'\u001b[39m\u001b[38;5;124mfinished\u001b[39m\u001b[38;5;124m'\u001b[39m:\n\u001b[0;32m    605\u001b[0m         status \u001b[38;5;241m=\u001b[39m \u001b[38;5;241m0\u001b[39m\n",
      "File \u001b[1;32md:\\Anaconda\\Lib\\site-packages\\scipy\\integrate\\_ivp\\base.py:197\u001b[0m, in \u001b[0;36mOdeSolver.step\u001b[1;34m(self)\u001b[0m\n\u001b[0;32m    195\u001b[0m \u001b[38;5;28;01melse\u001b[39;00m:\n\u001b[0;32m    196\u001b[0m     t \u001b[38;5;241m=\u001b[39m \u001b[38;5;28mself\u001b[39m\u001b[38;5;241m.\u001b[39mt\n\u001b[1;32m--> 197\u001b[0m     success, message \u001b[38;5;241m=\u001b[39m \u001b[38;5;28mself\u001b[39m\u001b[38;5;241m.\u001b[39m_step_impl()\n\u001b[0;32m    199\u001b[0m     \u001b[38;5;28;01mif\u001b[39;00m \u001b[38;5;129;01mnot\u001b[39;00m success:\n\u001b[0;32m    200\u001b[0m         \u001b[38;5;28mself\u001b[39m\u001b[38;5;241m.\u001b[39mstatus \u001b[38;5;241m=\u001b[39m \u001b[38;5;124m'\u001b[39m\u001b[38;5;124mfailed\u001b[39m\u001b[38;5;124m'\u001b[39m\n",
      "File \u001b[1;32md:\\Anaconda\\Lib\\site-packages\\scipy\\integrate\\_ivp\\radau.py:457\u001b[0m, in \u001b[0;36mRadau._step_impl\u001b[1;34m(self)\u001b[0m\n\u001b[0;32m    455\u001b[0m \u001b[38;5;28;01mwhile\u001b[39;00m \u001b[38;5;129;01mnot\u001b[39;00m converged:\n\u001b[0;32m    456\u001b[0m     \u001b[38;5;28;01mif\u001b[39;00m LU_real \u001b[38;5;129;01mis\u001b[39;00m \u001b[38;5;28;01mNone\u001b[39;00m \u001b[38;5;129;01mor\u001b[39;00m LU_complex \u001b[38;5;129;01mis\u001b[39;00m \u001b[38;5;28;01mNone\u001b[39;00m:\n\u001b[1;32m--> 457\u001b[0m         LU_real \u001b[38;5;241m=\u001b[39m \u001b[38;5;28mself\u001b[39m\u001b[38;5;241m.\u001b[39mlu(MU_REAL \u001b[38;5;241m/\u001b[39m h \u001b[38;5;241m*\u001b[39m \u001b[38;5;28mself\u001b[39m\u001b[38;5;241m.\u001b[39mI \u001b[38;5;241m-\u001b[39m J)\n\u001b[0;32m    458\u001b[0m         LU_complex \u001b[38;5;241m=\u001b[39m \u001b[38;5;28mself\u001b[39m\u001b[38;5;241m.\u001b[39mlu(MU_COMPLEX \u001b[38;5;241m/\u001b[39m h \u001b[38;5;241m*\u001b[39m \u001b[38;5;28mself\u001b[39m\u001b[38;5;241m.\u001b[39mI \u001b[38;5;241m-\u001b[39m J)\n\u001b[0;32m    460\u001b[0m     converged, n_iter, Z, rate \u001b[38;5;241m=\u001b[39m solve_collocation_system(\n\u001b[0;32m    461\u001b[0m         \u001b[38;5;28mself\u001b[39m\u001b[38;5;241m.\u001b[39mfun, t, y, h, Z0, scale, \u001b[38;5;28mself\u001b[39m\u001b[38;5;241m.\u001b[39mnewton_tol,\n\u001b[0;32m    462\u001b[0m         LU_real, LU_complex, \u001b[38;5;28mself\u001b[39m\u001b[38;5;241m.\u001b[39msolve_lu)\n",
      "File \u001b[1;32md:\\Anaconda\\Lib\\site-packages\\scipy\\integrate\\_ivp\\radau.py:332\u001b[0m, in \u001b[0;36mRadau.__init__.<locals>.lu\u001b[1;34m(A)\u001b[0m\n\u001b[0;32m    330\u001b[0m \u001b[38;5;28;01mdef\u001b[39;00m \u001b[38;5;21mlu\u001b[39m(A):\n\u001b[0;32m    331\u001b[0m     \u001b[38;5;28mself\u001b[39m\u001b[38;5;241m.\u001b[39mnlu \u001b[38;5;241m+\u001b[39m\u001b[38;5;241m=\u001b[39m \u001b[38;5;241m1\u001b[39m\n\u001b[1;32m--> 332\u001b[0m     \u001b[38;5;28;01mreturn\u001b[39;00m lu_factor(A, overwrite_a\u001b[38;5;241m=\u001b[39m\u001b[38;5;28;01mTrue\u001b[39;00m)\n",
      "File \u001b[1;32md:\\Anaconda\\Lib\\site-packages\\scipy\\linalg\\_decomp_lu.py:79\u001b[0m, in \u001b[0;36mlu_factor\u001b[1;34m(a, overwrite_a, check_finite)\u001b[0m\n\u001b[0;32m     21\u001b[0m \u001b[38;5;250m\u001b[39m\u001b[38;5;124;03m\"\"\"\u001b[39;00m\n\u001b[0;32m     22\u001b[0m \u001b[38;5;124;03mCompute pivoted LU decomposition of a matrix.\u001b[39;00m\n\u001b[0;32m     23\u001b[0m \n\u001b[1;32m   (...)\u001b[0m\n\u001b[0;32m     76\u001b[0m \u001b[38;5;124;03mTrue\u001b[39;00m\n\u001b[0;32m     77\u001b[0m \u001b[38;5;124;03m\"\"\"\u001b[39;00m\n\u001b[0;32m     78\u001b[0m \u001b[38;5;28;01mif\u001b[39;00m check_finite:\n\u001b[1;32m---> 79\u001b[0m     a1 \u001b[38;5;241m=\u001b[39m asarray_chkfinite(a)\n\u001b[0;32m     80\u001b[0m \u001b[38;5;28;01melse\u001b[39;00m:\n\u001b[0;32m     81\u001b[0m     a1 \u001b[38;5;241m=\u001b[39m asarray(a)\n",
      "File \u001b[1;32md:\\Anaconda\\Lib\\site-packages\\numpy\\lib\\function_base.py:628\u001b[0m, in \u001b[0;36masarray_chkfinite\u001b[1;34m(a, dtype, order)\u001b[0m\n\u001b[0;32m    626\u001b[0m a \u001b[38;5;241m=\u001b[39m asarray(a, dtype\u001b[38;5;241m=\u001b[39mdtype, order\u001b[38;5;241m=\u001b[39morder)\n\u001b[0;32m    627\u001b[0m \u001b[38;5;28;01mif\u001b[39;00m a\u001b[38;5;241m.\u001b[39mdtype\u001b[38;5;241m.\u001b[39mchar \u001b[38;5;129;01min\u001b[39;00m typecodes[\u001b[38;5;124m'\u001b[39m\u001b[38;5;124mAllFloat\u001b[39m\u001b[38;5;124m'\u001b[39m] \u001b[38;5;129;01mand\u001b[39;00m \u001b[38;5;129;01mnot\u001b[39;00m np\u001b[38;5;241m.\u001b[39misfinite(a)\u001b[38;5;241m.\u001b[39mall():\n\u001b[1;32m--> 628\u001b[0m     \u001b[38;5;28;01mraise\u001b[39;00m \u001b[38;5;167;01mValueError\u001b[39;00m(\n\u001b[0;32m    629\u001b[0m         \u001b[38;5;124m\"\u001b[39m\u001b[38;5;124marray must not contain infs or NaNs\u001b[39m\u001b[38;5;124m\"\u001b[39m)\n\u001b[0;32m    630\u001b[0m \u001b[38;5;28;01mreturn\u001b[39;00m a\n",
      "\u001b[1;31mValueError\u001b[0m: array must not contain infs or NaNs"
     ]
    }
   ],
   "source": [
    "scanned_WA = dk_scan(params=params_WA)"
   ]
  },
  {
   "cell_type": "code",
   "execution_count": null,
   "metadata": {},
   "outputs": [
    {
     "data": {
      "image/png": "[encoded data removed]",
      "text/plain": [
       "<Figure size 640x480 with 1 Axes>"
      ]
     },
     "metadata": {},
     "output_type": "display_data"
    },
    {
     "data": {
      "image/png": "[encoded data removed]",
      "text/plain": [
       "<Figure size 640x480 with 1 Axes>"
      ]
     },
     "metadata": {},
     "output_type": "display_data"
    },
    {
     "data": {
      "text/plain": [
       "Text(0, 0.5, 'Peak 118 Signal')"
      ]
     },
     "execution_count": 7,
     "metadata": {},
     "output_type": "execute_result"
    },
    {
     "data": {
      "image/png": "[encoded data removed]",
      "text/plain": [
       "<Figure size 640x480 with 1 Axes>"
      ]
     },
     "metadata": {},
     "output_type": "display_data"
    }
   ],
   "source": [
    "plt.scatter(scanned_WA.b.data,scanned_WA.data[:,0])\n",
    "plt.xlabel('Confocal Perameter [m]')\n",
    "plt.ylabel('118 Signal')\n",
    "plt.show()\n",
    "\n",
    "bPlot = np.linspace(scanned_WA.b.data[-1],scanned_WA.b.data[0])\n",
    "\n",
    "plt.scatter(bPlot,scanned_WA.data[:,0])\n",
    "plt.xlabel('Confocal Perameter [m]')\n",
    "plt.ylabel('118 Signal')\n",
    "plt.show()\n",
    "\n",
    "\n",
    "f= b_to_f(0.5e-2,bs)*10**2 #convert to focal length in cm\n",
    "plt.scatter(f,scanned_WA.data[:,0],color = 'red')\n",
    "plt.xlabel('Focal Length [cm]')\n",
    "plt.ylabel('Peak 118 Signal')\n",
    "\n",
    "#plt.plot(f,scanned_WA.data[:,0])\n",
    "\n",
    "\n"
   ]
  },
  {
   "cell_type": "code",
   "execution_count": null,
   "metadata": {},
   "outputs": [
    {
     "name": "stdout",
     "output_type": "stream",
     "text": [
      "optimal b value:  0.009040185458482704\n"
     ]
    }
   ],
   "source": [
    "opt_b_index = np.where(scanned_WA.data[:,0] == max(scanned_WA.data[:,0]))[0][0]\n",
    "print('optimal b value: ',scanned_WA.b.data[opt_b_index])\n"
   ]
  },
  {
   "cell_type": "code",
   "execution_count": null,
   "metadata": {},
   "outputs": [],
   "source": [
    "\n",
    "\n",
    "sol_params_NA = {'func': curly_GBNA,\n",
    "              'initial_vals': (nonzero, nonzero),\n",
    "              'zstart': zstart,\n",
    "              'zstop': zstop,\n",
    "              'zsamples': zsamples,\n",
    "              'z': z,\n",
    "              'r': r,\n",
    "              'rstop': rstop,\n",
    "              'rsamples': rsamples}\n",
    "\n",
    "params_NA = {**pulse_params, **harm_params, **sol_params_NA}\n",
    "\n",
    "bscan = xr.DataArray(bs,\n",
    "                     dims = 'b',\n",
    "                     attrs = {'units': 'm',\n",
    "                              'long_name': \"Confocal parameter\"})\n",
    "single_func = functools.partial(calc_118_and_fluor,\n",
    "                                zrange=zrange,\n",
    "                                init_vals=[1e-10,1e-10,1e-10],\n",
    "                                t_eval=z)\n",
    "\n",
    "B_scan_NA = scan_builder(single_func, params_NA, [bscan])"
   ]
  },
  {
   "cell_type": "code",
   "execution_count": null,
   "metadata": {},
   "outputs": [
    {
     "name": "stdout",
     "output_type": "stream",
     "text": [
      "0.0003616003262101672\n",
      "0.0005387143085014434\n",
      "0.0007158282907927197\n",
      "0.0008929422730839959\n",
      "0.0010700562553752724\n",
      "0.0012471702376665485\n",
      "0.0014242842199578246\n",
      "0.0016013982022491011\n"
     ]
    },
    {
     "name": "stderr",
     "output_type": "stream",
     "text": [
      "d:\\118_Project\\118-Project\\Functions.py:108: IntegrationWarning: The integral is probably divergent, or slowly convergent.\n",
      "  I1 = scint.quad(Imf1,z0,z, weight = 'sin', wvar = dk,limit=10000)\n"
     ]
    },
    {
     "name": "stdout",
     "output_type": "stream",
     "text": [
      "0.0017785121845403772\n",
      "0.0019556261668316538\n",
      "0.00213274014912293\n",
      "0.002309854131414206\n",
      "0.002486968113705482\n",
      "0.0026640820959967586\n"
     ]
    },
    {
     "name": "stderr",
     "output_type": "stream",
     "text": [
      "d:\\118_Project\\118-Project\\Functions.py:108: IntegrationWarning: The integral is probably divergent, or slowly convergent.\n",
      "  I1 = scint.quad(Imf1,z0,z, weight = 'sin', wvar = dk,limit=10000)\n"
     ]
    },
    {
     "name": "stdout",
     "output_type": "stream",
     "text": [
      "0.0028411960782880347\n"
     ]
    },
    {
     "name": "stderr",
     "output_type": "stream",
     "text": [
      "d:\\118_Project\\118-Project\\Functions.py:108: IntegrationWarning: The integral is probably divergent, or slowly convergent.\n",
      "  I1 = scint.quad(Imf1,z0,z, weight = 'sin', wvar = dk,limit=10000)\n"
     ]
    },
    {
     "name": "stdout",
     "output_type": "stream",
     "text": [
      "0.0030183100605793113\n",
      "0.0031954240428705874\n"
     ]
    },
    {
     "name": "stderr",
     "output_type": "stream",
     "text": [
      "d:\\118_Project\\118-Project\\Functions.py:108: IntegrationWarning: The integral is probably divergent, or slowly convergent.\n",
      "  I1 = scint.quad(Imf1,z0,z, weight = 'sin', wvar = dk,limit=10000)\n"
     ]
    },
    {
     "name": "stdout",
     "output_type": "stream",
     "text": [
      "0.0033725380251618635\n"
     ]
    },
    {
     "name": "stderr",
     "output_type": "stream",
     "text": [
      "d:\\118_Project\\118-Project\\Functions.py:108: IntegrationWarning: The integral is probably divergent, or slowly convergent.\n",
      "  I1 = scint.quad(Imf1,z0,z, weight = 'sin', wvar = dk,limit=10000)\n"
     ]
    },
    {
     "name": "stdout",
     "output_type": "stream",
     "text": [
      "0.00354965200745314\n"
     ]
    },
    {
     "name": "stderr",
     "output_type": "stream",
     "text": [
      "d:\\118_Project\\118-Project\\Functions.py:108: IntegrationWarning: The integral is probably divergent, or slowly convergent.\n",
      "  I1 = scint.quad(Imf1,z0,z, weight = 'sin', wvar = dk,limit=10000)\n"
     ]
    },
    {
     "name": "stdout",
     "output_type": "stream",
     "text": [
      "0.003726765989744416\n"
     ]
    },
    {
     "name": "stderr",
     "output_type": "stream",
     "text": [
      "d:\\118_Project\\118-Project\\Functions.py:108: IntegrationWarning: The integral is probably divergent, or slowly convergent.\n",
      "  I1 = scint.quad(Imf1,z0,z, weight = 'sin', wvar = dk,limit=10000)\n"
     ]
    },
    {
     "name": "stdout",
     "output_type": "stream",
     "text": [
      "0.0039038799720356927\n"
     ]
    },
    {
     "name": "stderr",
     "output_type": "stream",
     "text": [
      "d:\\118_Project\\118-Project\\Functions.py:108: IntegrationWarning: The integral is probably divergent, or slowly convergent.\n",
      "  I1 = scint.quad(Imf1,z0,z, weight = 'sin', wvar = dk,limit=10000)\n"
     ]
    },
    {
     "name": "stdout",
     "output_type": "stream",
     "text": [
      "0.004080993954326969\n"
     ]
    },
    {
     "name": "stderr",
     "output_type": "stream",
     "text": [
      "d:\\118_Project\\118-Project\\Functions.py:108: IntegrationWarning: The integral is probably divergent, or slowly convergent.\n",
      "  I1 = scint.quad(Imf1,z0,z, weight = 'sin', wvar = dk,limit=10000)\n"
     ]
    },
    {
     "name": "stdout",
     "output_type": "stream",
     "text": [
      "0.004258107936618245\n"
     ]
    },
    {
     "name": "stderr",
     "output_type": "stream",
     "text": [
      "d:\\118_Project\\118-Project\\Functions.py:108: IntegrationWarning: The integral is probably divergent, or slowly convergent.\n",
      "  I1 = scint.quad(Imf1,z0,z, weight = 'sin', wvar = dk,limit=10000)\n"
     ]
    },
    {
     "name": "stdout",
     "output_type": "stream",
     "text": [
      "0.004435221918909522\n"
     ]
    },
    {
     "name": "stderr",
     "output_type": "stream",
     "text": [
      "d:\\118_Project\\118-Project\\Functions.py:108: IntegrationWarning: The integral is probably divergent, or slowly convergent.\n",
      "  I1 = scint.quad(Imf1,z0,z, weight = 'sin', wvar = dk,limit=10000)\n"
     ]
    },
    {
     "name": "stdout",
     "output_type": "stream",
     "text": [
      "0.0046123359012007975\n"
     ]
    },
    {
     "name": "stderr",
     "output_type": "stream",
     "text": [
      "d:\\118_Project\\118-Project\\Functions.py:108: IntegrationWarning: The integral is probably divergent, or slowly convergent.\n",
      "  I1 = scint.quad(Imf1,z0,z, weight = 'sin', wvar = dk,limit=10000)\n"
     ]
    },
    {
     "name": "stdout",
     "output_type": "stream",
     "text": [
      "0.004789449883492074\n"
     ]
    },
    {
     "name": "stderr",
     "output_type": "stream",
     "text": [
      "d:\\118_Project\\118-Project\\Functions.py:108: IntegrationWarning: The integral is probably divergent, or slowly convergent.\n",
      "  I1 = scint.quad(Imf1,z0,z, weight = 'sin', wvar = dk,limit=10000)\n"
     ]
    },
    {
     "name": "stdout",
     "output_type": "stream",
     "text": [
      "0.004966563865783351\n"
     ]
    },
    {
     "name": "stderr",
     "output_type": "stream",
     "text": [
      "d:\\118_Project\\118-Project\\Functions.py:108: IntegrationWarning: The integral is probably divergent, or slowly convergent.\n",
      "  I1 = scint.quad(Imf1,z0,z, weight = 'sin', wvar = dk,limit=10000)\n"
     ]
    },
    {
     "name": "stdout",
     "output_type": "stream",
     "text": [
      "0.005143677848074627\n"
     ]
    },
    {
     "name": "stderr",
     "output_type": "stream",
     "text": [
      "d:\\118_Project\\118-Project\\Functions.py:108: IntegrationWarning: The integral is probably divergent, or slowly convergent.\n",
      "  I1 = scint.quad(Imf1,z0,z, weight = 'sin', wvar = dk,limit=10000)\n"
     ]
    },
    {
     "name": "stdout",
     "output_type": "stream",
     "text": [
      "0.005320791830365903\n"
     ]
    },
    {
     "name": "stderr",
     "output_type": "stream",
     "text": [
      "d:\\118_Project\\118-Project\\Functions.py:108: IntegrationWarning: The integral is probably divergent, or slowly convergent.\n",
      "  I1 = scint.quad(Imf1,z0,z, weight = 'sin', wvar = dk,limit=10000)\n"
     ]
    },
    {
     "name": "stdout",
     "output_type": "stream",
     "text": [
      "0.005497905812657179\n",
      "0.005675019794948456\n"
     ]
    },
    {
     "name": "stderr",
     "output_type": "stream",
     "text": [
      "d:\\118_Project\\118-Project\\Functions.py:108: IntegrationWarning: The integral is probably divergent, or slowly convergent.\n",
      "  I1 = scint.quad(Imf1,z0,z, weight = 'sin', wvar = dk,limit=10000)\n"
     ]
    },
    {
     "name": "stdout",
     "output_type": "stream",
     "text": [
      "0.005852133777239732\n"
     ]
    },
    {
     "name": "stderr",
     "output_type": "stream",
     "text": [
      "d:\\118_Project\\118-Project\\Functions.py:108: IntegrationWarning: The integral is probably divergent, or slowly convergent.\n",
      "  I1 = scint.quad(Imf1,z0,z, weight = 'sin', wvar = dk,limit=10000)\n"
     ]
    },
    {
     "name": "stdout",
     "output_type": "stream",
     "text": [
      "0.006029247759531008\n"
     ]
    },
    {
     "name": "stderr",
     "output_type": "stream",
     "text": [
      "d:\\118_Project\\118-Project\\Functions.py:108: IntegrationWarning: The integral is probably divergent, or slowly convergent.\n",
      "  I1 = scint.quad(Imf1,z0,z, weight = 'sin', wvar = dk,limit=10000)\n"
     ]
    },
    {
     "name": "stdout",
     "output_type": "stream",
     "text": [
      "0.006206361741822285\n"
     ]
    },
    {
     "name": "stderr",
     "output_type": "stream",
     "text": [
      "d:\\118_Project\\118-Project\\Functions.py:108: IntegrationWarning: The integral is probably divergent, or slowly convergent.\n",
      "  I1 = scint.quad(Imf1,z0,z, weight = 'sin', wvar = dk,limit=10000)\n"
     ]
    },
    {
     "name": "stdout",
     "output_type": "stream",
     "text": [
      "0.00638347572411356\n"
     ]
    },
    {
     "name": "stderr",
     "output_type": "stream",
     "text": [
      "d:\\118_Project\\118-Project\\Functions.py:108: IntegrationWarning: The integral is probably divergent, or slowly convergent.\n",
      "  I1 = scint.quad(Imf1,z0,z, weight = 'sin', wvar = dk,limit=10000)\n"
     ]
    },
    {
     "name": "stdout",
     "output_type": "stream",
     "text": [
      "0.006560589706404837\n",
      "0.006737703688696113\n"
     ]
    },
    {
     "name": "stderr",
     "output_type": "stream",
     "text": [
      "d:\\118_Project\\118-Project\\Functions.py:108: IntegrationWarning: The integral is probably divergent, or slowly convergent.\n",
      "  I1 = scint.quad(Imf1,z0,z, weight = 'sin', wvar = dk,limit=10000)\n"
     ]
    },
    {
     "name": "stdout",
     "output_type": "stream",
     "text": [
      "0.006914817670987389\n"
     ]
    },
    {
     "name": "stderr",
     "output_type": "stream",
     "text": [
      "d:\\118_Project\\118-Project\\Functions.py:108: IntegrationWarning: The integral is probably divergent, or slowly convergent.\n",
      "  I1 = scint.quad(Imf1,z0,z, weight = 'sin', wvar = dk,limit=10000)\n"
     ]
    },
    {
     "name": "stdout",
     "output_type": "stream",
     "text": [
      "0.007091931653278666\n",
      "0.007269045635569942\n",
      "0.007446159617861219\n",
      "0.007623273600152494\n",
      "0.007800387582443771\n"
     ]
    },
    {
     "name": "stderr",
     "output_type": "stream",
     "text": [
      "d:\\118_Project\\118-Project\\Functions.py:108: IntegrationWarning: The integral is probably divergent, or slowly convergent.\n",
      "  I1 = scint.quad(Imf1,z0,z, weight = 'sin', wvar = dk,limit=10000)\n"
     ]
    },
    {
     "name": "stdout",
     "output_type": "stream",
     "text": [
      "0.007977501564735047\n",
      "0.008154615547026322\n"
     ]
    },
    {
     "name": "stderr",
     "output_type": "stream",
     "text": [
      "d:\\118_Project\\118-Project\\Functions.py:108: IntegrationWarning: The integral is probably divergent, or slowly convergent.\n",
      "  I1 = scint.quad(Imf1,z0,z, weight = 'sin', wvar = dk,limit=10000)\n"
     ]
    },
    {
     "name": "stdout",
     "output_type": "stream",
     "text": [
      "0.008331729529317598\n"
     ]
    },
    {
     "name": "stderr",
     "output_type": "stream",
     "text": [
      "d:\\118_Project\\118-Project\\Functions.py:108: IntegrationWarning: The integral is probably divergent, or slowly convergent.\n",
      "  I1 = scint.quad(Imf1,z0,z, weight = 'sin', wvar = dk,limit=10000)\n"
     ]
    },
    {
     "name": "stdout",
     "output_type": "stream",
     "text": [
      "0.008508843511608875\n",
      "0.008685957493900151\n",
      "0.008863071476191427\n"
     ]
    },
    {
     "name": "stderr",
     "output_type": "stream",
     "text": [
      "d:\\118_Project\\118-Project\\Functions.py:108: IntegrationWarning: The integral is probably divergent, or slowly convergent.\n",
      "  I1 = scint.quad(Imf1,z0,z, weight = 'sin', wvar = dk,limit=10000)\n"
     ]
    },
    {
     "name": "stdout",
     "output_type": "stream",
     "text": [
      "0.009040185458482704\n"
     ]
    }
   ],
   "source": [
    "scanned_NA = B_scan_NA(params=params_NA)"
   ]
  },
  {
   "cell_type": "code",
   "execution_count": null,
   "metadata": {},
   "outputs": [
    {
     "data": {
      "image/png": "[encoded data removed]",
      "text/plain": [
       "<Figure size 640x480 with 1 Axes>"
      ]
     },
     "metadata": {},
     "output_type": "display_data"
    },
    {
     "data": {
      "text/plain": [
       "Text(0, 0.5, 'Peak 118 Signal')"
      ]
     },
     "execution_count": 11,
     "metadata": {},
     "output_type": "execute_result"
    },
    {
     "data": {
      "image/png": "[encoded data removed]",
      "text/plain": [
       "<Figure size 640x480 with 1 Axes>"
      ]
     },
     "metadata": {},
     "output_type": "display_data"
    }
   ],
   "source": [
    "plt.scatter(scanned_NA.b.data,scanned_NA.data[:,0])\n",
    "plt.xlabel('Confocal Perameter [m]')\n",
    "plt.ylabel('118 Signal')\n",
    "plt.title('Optimal b = 0.136 [m]')\n",
    "plt.show()\n",
    "\n",
    "f= b_to_f(0.5e-2,bs)*10**2 #convert to focal length in cm\n",
    "\n",
    "plt.scatter(f,scanned_NA.data[:,0])\n",
    "plt.xlabel('Focal Length [cm]')\n",
    "plt.ylabel('Peak 118 Signal')\n",
    "\n",
    "#plt.plot(f,scanned_WA.data[:,0])\n",
    "\n"
   ]
  },
  {
   "cell_type": "code",
   "execution_count": null,
   "metadata": {},
   "outputs": [
    {
     "name": "stdout",
     "output_type": "stream",
     "text": [
      "0.009040185458482704\n"
     ]
    }
   ],
   "source": [
    "opt_b_index_NA = np.where(scanned_NA.data[:,0] == max(scanned_NA.data[:,0]))[0][0]\n",
    "print(scanned_NA.b.data[opt_b_index_NA])"
   ]
  },
  {
   "cell_type": "code",
   "execution_count": null,
   "metadata": {},
   "outputs": [
    {
     "data": {
      "text/plain": [
       "0.4999999999990347"
      ]
     },
     "execution_count": 13,
     "metadata": {},
     "output_type": "execute_result"
    }
   ],
   "source": [
    "omega_initial = 0.5e-2\n",
    "b_final = 0.4\n",
    "\n",
    "b_to_f(omega_initial,0.002260011735083854)"
   ]
  },
  {
   "cell_type": "code",
   "execution_count": null,
   "metadata": {},
   "outputs": [
    {
     "name": "stdout",
     "output_type": "stream",
     "text": [
      "442.47783853377365\n"
     ]
    }
   ],
   "source": [
    "k_355 = 2*np.pi/lambda_355\n",
    "b_yag = k_355*omega_initial**2\n",
    "print(b_yag)"
   ]
  },
  {
   "cell_type": "code",
   "execution_count": null,
   "metadata": {},
   "outputs": [
    {
     "data": {
      "text/plain": [
       "5.107600867410249e-10"
      ]
     },
     "execution_count": 15,
     "metadata": {},
     "output_type": "execute_result"
    }
   ],
   "source": [
    "(2*omega_initial/b_yag)**2"
   ]
  },
  {
   "cell_type": "code",
   "execution_count": null,
   "metadata": {},
   "outputs": [
    {
     "name": "stdout",
     "output_type": "stream",
     "text": [
      "AFTER THIN LENS:\n",
      "positon relative to focus:  -0.9999795700139232 [m]\n",
      "beam spot size:  0.005 [m]\n",
      "AT FOCUS:\n",
      "positon relative to focus:  0.0 [m]\n",
      "beam spot size:  2.2599771059007745e-05 [m]\n"
     ]
    }
   ],
   "source": [
    "zR_yag = b_yag/2\n",
    "q_yag = complex(0,zR_yag)\n",
    "params = {'lambda':lambda_355}\n",
    "q_lens1=thin_lens(q_yag,100e-2)\n",
    "print('AFTER THIN LENS:')\n",
    "q_to_params(q_lens1,params)\n",
    "q_focus1=free_space(q_lens1,0.9999795700139232)\n",
    "print('AT FOCUS:')\n",
    "q_to_params(q_focus1,params)\n"
   ]
  },
  {
   "cell_type": "code",
   "execution_count": null,
   "metadata": {},
   "outputs": [
    {
     "name": "stdout",
     "output_type": "stream",
     "text": [
      "0.009039816080529837\n"
     ]
    }
   ],
   "source": [
    "omega0_lens1 = 2.2599771059007745e-05\n",
    "\n",
    "b_lens1 = k_355*omega0_lens1**2\n",
    "print(b_lens1)"
   ]
  },
  {
   "cell_type": "code",
   "execution_count": null,
   "metadata": {},
   "outputs": [
    {
     "data": {
      "text/plain": [
       "1.1227886160586296"
      ]
     },
     "execution_count": 18,
     "metadata": {},
     "output_type": "execute_result"
    }
   ],
   "source": [
    "b_to_f(2.2599771059007745e-05,0.4)*100"
   ]
  },
  {
   "cell_type": "code",
   "execution_count": null,
   "metadata": {},
   "outputs": [
    {
     "data": {
      "text/plain": [
       "6.648898856980159"
      ]
     },
     "execution_count": 19,
     "metadata": {},
     "output_type": "execute_result"
    }
   ],
   "source": [
    "b_to_f(0.5e-2,0.4)"
   ]
  },
  {
   "cell_type": "code",
   "execution_count": null,
   "metadata": {},
   "outputs": [
    {
     "data": {
      "text/plain": [
       "0.5128420274853751"
      ]
     },
     "execution_count": 20,
     "metadata": {},
     "output_type": "execute_result"
    }
   ],
   "source": [
    "f_to_b(2.2599771059007745e-05,1.2e-2)"
   ]
  },
  {
   "cell_type": "code",
   "execution_count": null,
   "metadata": {},
   "outputs": [],
   "source": []
  }
 ],
 "metadata": {
  "kernelspec": {
   "display_name": "base",
   "language": "python",
   "name": "python3"
  },
  "language_info": {
   "codemirror_mode": {
    "name": "ipython",
    "version": 3
   },
   "file_extension": ".py",
   "mimetype": "text/x-python",
   "name": "python",
   "nbconvert_exporter": "python",
   "pygments_lexer": "ipython3",
   "version": "3.11.5"
  }
 },
 "nbformat": 4,
 "nbformat_minor": 2
}
