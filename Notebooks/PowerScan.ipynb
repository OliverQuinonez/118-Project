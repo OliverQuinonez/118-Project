{
 "cells": [
  {
   "cell_type": "code",
   "execution_count": 20,
   "metadata": {},
   "outputs": [],
   "source": [
    "import functools\n",
    "import pandas as pd\n",
    "import numpy as np\n",
    "import tqdm\n",
    "import seaborn as sns\n",
    "import xarray as xr\n",
    "import matplotlib.pyplot as plt\n",
    "from scipy.optimize import curve_fit\n",
    "import scipy.integrate as scint\n",
    "import scipy.interpolate as scinterp\n",
    "xr.set_options(keep_attrs=True)\n",
    "import cmath\n",
    "\n",
    "from Functions import *"
   ]
  },
  {
   "cell_type": "code",
   "execution_count": null,
   "metadata": {},
   "outputs": [],
   "source": [
    "b=f_to_b(0.5e-2,54e-2)\n",
    "omega0 = np.sqrt(lambda_355 * b / (2* np.pi))\n",
    "zR = b / 2     # [m] Rayleigh Range\n",
    "\n",
    "\n",
    "\n",
    "pulse_params = {'b' : b,            # [m] confocal parameter\n",
    "            'Power' : 0.017,       # [J] single pulse energy\n",
    "            'duration' : 7e-9,\n",
    "            'PXe':24}     # [s] single pulse length\n",
    "\n",
    "harm_params = {'alpha' : 8.20839154e-48,\n",
    "            'chi3' : 1.5e-35}\n",
    "\n",
    "zstart = -0.20\n",
    "zstop = 0.20\n",
    "zsamples = 1000\n",
    "zrange = (zstart, zstop)\n",
    "z = np.array(np.linspace(zstart, zstop, zsamples,dtype = np.longdouble))\n",
    "\n",
    "rstop = 10*omega0\n",
    "rsamples = 1000\n",
    "r = np.linspace(0,rstop,rsamples,dtype = np.longdouble)\n",
    "\n",
    "\n",
    "params= {'func': curly_GBWA,\n",
    "              'initial_vals': (nonzero, nonzero),\n",
    "              'zstart': zstart,\n",
    "              'zstop': zstop,\n",
    "              'zsamples': zsamples,\n",
    "              'z': z,\n",
    "              'r': r,\n",
    "              'rstop': rstop,\n",
    "              'rsamples': rsamples}\n",
    "\n",
    "params_WA = {**pulse_params, **harm_params, **params}\n"
   ]
  },
  {
   "cell_type": "code",
   "execution_count": 22,
   "metadata": {},
   "outputs": [],
   "source": [
    "single_func = functools.partial(calc_118_and_fluor,\n",
    "                                zrange=zrange,\n",
    "                                init_vals=[1e-10,1e-10,1e-10],\n",
    "                                t_eval=z)\n"
   ]
  },
  {
   "cell_type": "code",
   "execution_count": null,
   "metadata": {},
   "outputs": [],
   "source": [
    "Powersamples = 100\n",
    "Powerrange = (1e-3, 50e-3) # confocal perameter [m]\n",
    "Power = np.linspace(Powerrange[0], Powerrange[1], Powersamples)\n",
    "Escan = xr.DataArray(Power,\n",
    "                     dims = 'Power',\n",
    "                     attrs = {'units': 'mJ',\n",
    "                              'long_name': \"Power of 355 Beam\"})\n",
    "single_func = functools.partial(calc_118_and_fluor,\n",
    "                                zrange=zrange,\n",
    "                                init_vals=[1e-10,1e-10,1e-10],\n",
    "                                t_eval=z)\n",
    "\n",
    "power_scan = scan_builder(single_func, params_WA, [Escan])"
   ]
  },
  {
   "cell_type": "code",
   "execution_count": 24,
   "metadata": {},
   "outputs": [
    {
     "ename": "KeyError",
     "evalue": "'Scan parameter is not in parameter list.'",
     "output_type": "error",
     "traceback": [
      "\u001b[0;31m---------------------------------------------------------------------------\u001b[0m",
      "\u001b[0;31mKeyError\u001b[0m                                  Traceback (most recent call last)",
      "Cell \u001b[0;32mIn[24], line 1\u001b[0m\n\u001b[0;32m----> 1\u001b[0m Power_scanned \u001b[38;5;241m=\u001b[39m scan_builder(single_func, params, [Escan])(params\u001b[38;5;241m=\u001b[39mparams)\n",
      "File \u001b[0;32m~/118-Project/Functions.py:254\u001b[0m, in \u001b[0;36mscan_parameter_1D_ODE\u001b[0;34m(param_scan_func, params, scan_range)\u001b[0m\n\u001b[1;32m    252\u001b[0m scan_in_params \u001b[38;5;241m=\u001b[39m scan_range\u001b[38;5;241m.\u001b[39mdims[\u001b[38;5;241m0\u001b[39m] \u001b[38;5;129;01min\u001b[39;00m params\n\u001b[1;32m    253\u001b[0m \u001b[38;5;28;01mif\u001b[39;00m \u001b[38;5;129;01mnot\u001b[39;00m scan_in_params:\n\u001b[0;32m--> 254\u001b[0m     \u001b[38;5;28;01mraise\u001b[39;00m \u001b[38;5;167;01mKeyError\u001b[39;00m(\u001b[38;5;124m\"\u001b[39m\u001b[38;5;124mScan parameter is not in parameter list.\u001b[39m\u001b[38;5;124m\"\u001b[39m)\n\u001b[1;32m    256\u001b[0m new_data \u001b[38;5;241m=\u001b[39m []    \n\u001b[1;32m    257\u001b[0m \u001b[38;5;28;01mfor\u001b[39;00m param_val \u001b[38;5;129;01min\u001b[39;00m scan_range\u001b[38;5;241m.\u001b[39mdata:\n\u001b[1;32m    258\u001b[0m     \u001b[38;5;66;03m# print('scan_range.dims[0]: ',scan_range.dims[0])\u001b[39;00m\n\u001b[1;32m    259\u001b[0m     \u001b[38;5;66;03m# print('params[scan_range.dims[0]] before: ',params[scan_range.dims[0]])\u001b[39;00m\n",
      "\u001b[0;31mKeyError\u001b[0m: 'Scan parameter is not in parameter list.'"
     ]
    }
   ],
   "source": [
    "Power_scanned = scan_builder(single_func, params, [Escan])(params=params)"
   ]
  }
 ],
 "metadata": {
  "kernelspec": {
   "display_name": "base",
   "language": "python",
   "name": "python3"
  },
  "language_info": {
   "codemirror_mode": {
    "name": "ipython",
    "version": 3
   },
   "file_extension": ".py",
   "mimetype": "text/x-python",
   "name": "python",
   "nbconvert_exporter": "python",
   "pygments_lexer": "ipython3",
   "version": "3.11.5"
  }
 },
 "nbformat": 4,
 "nbformat_minor": 2
}
