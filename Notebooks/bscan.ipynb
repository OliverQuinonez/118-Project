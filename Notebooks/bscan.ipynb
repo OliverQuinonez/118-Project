{
 "cells": [
  {
   "cell_type": "code",
   "execution_count": 1,
   "metadata": {},
   "outputs": [],
   "source": [
    "import functools\n",
    "import pandas as pd\n",
    "import numpy as np\n",
    "import tqdm\n",
    "import seaborn as sns\n",
    "import xarray as xr\n",
    "import matplotlib.pyplot as plt\n",
    "from scipy.optimize import curve_fit\n",
    "import scipy.integrate as scint\n",
    "import scipy.interpolate as scinterp\n",
    "xr.set_options(keep_attrs=True)\n",
    "import cmath\n",
    "\n",
    "from Functions import *"
   ]
  },
  {
   "cell_type": "code",
   "execution_count": 2,
   "metadata": {},
   "outputs": [],
   "source": [
    "b=((2*np.pi)/lambda_355)*(0.5e-2)**2\n",
    "omega0 = 0.5e-2\n",
    "zR = b / 2     # [m] Rayleigh Range\n",
    "\n",
    "\n",
    "\n",
    "pulse_params = {'b' : b,            # [m] confocal parameter\n",
    "            'energy' : 15e-3,       # [J] single pulse energy original\n",
    "            'duration' : 7e-9,\n",
    "            'PXe':25,\n",
    "            'dk': evalDeltaK(b)}     # [s] single pulse length\n",
    "\n",
    "harm_params = {'alpha' : 8.20839154e-48, #value from fit 'alpha' : 8.20839154e-48,\n",
    "            'chi3' : 1.5e-35}   #value from fit: 1.5e-35\n",
    "\n",
    "zstart = -0.2\n",
    "zstop =0.2\n",
    "zsamples = 1000\n",
    "zrange = (zstart, zstop)\n",
    "z = np.array(np.linspace(zstart, zstop, zsamples,dtype = np.longdouble))\n",
    "\n",
    "rstop = 10*omega0\n",
    "rsamples = 10000\n",
    "r = np.linspace(0,rstop,rsamples,dtype = np.longdouble)\n",
    "\n",
    "\n",
    "sol_params_WA = {'func': curly_GBWA,\n",
    "              'initial_vals': (nonzero, nonzero),\n",
    "              'zstart': zstart,\n",
    "              'zstop': zstop,\n",
    "              'zsamples': zsamples,\n",
    "              'z': z,\n",
    "              'r': r,\n",
    "              'rstop': rstop,\n",
    "              'rsamples': rsamples}\n",
    "\n",
    "params_WA = {**pulse_params, **harm_params, **sol_params_WA}\n"
   ]
  },
  {
   "cell_type": "code",
   "execution_count": 3,
   "metadata": {},
   "outputs": [],
   "source": [
    "single_func = functools.partial(calc_118_and_fluor,\n",
    "                                zrange=zrange,\n",
    "                                init_vals=[1e-10,1e-10,1e-10],\n",
    "                                t_eval=z)"
   ]
  },
  {
   "cell_type": "code",
   "execution_count": 4,
   "metadata": {},
   "outputs": [
    {
     "data": {
      "text/plain": [
       "(0.0003616003262101672, 0.009040185458482704)"
      ]
     },
     "execution_count": 4,
     "metadata": {},
     "output_type": "execute_result"
    }
   ],
   "source": [
    "f_to_b(0.5e-2,20e-2),f_to_b(0.5e-2,100e-2)"
   ]
  },
  {
   "cell_type": "code",
   "execution_count": null,
   "metadata": {},
   "outputs": [],
   "source": [
    "bsamples = 50\n",
    "brange = (f_to_b(0.5e-2,20e-2),f_to_b(0.5e-2,100e-2))# confocal perameter [m] (corresponds to f=20cm to f=100cm)\n",
    "bs = np.linspace(brange[0], brange[1], bsamples)\n",
    "bscan = xr.DataArray(bs,\n",
    "                     dims = 'b',\n",
    "                     attrs = {'units': 'm',\n",
    "                              'long_name': \"Confocal parameter\"})\n",
    "\n",
    "single_func = functools.partial(calc_118_and_fluor,\n",
    "                                zrange=zrange,\n",
    "                                init_vals=[1e-10,1e-10,1e-10],\n",
    "                                t_eval=z)\n",
    "\n",
    "B_scan = scan_builder(single_func, params_WA, [bscan])"
   ]
  },
  {
   "cell_type": "code",
   "execution_count": 6,
   "metadata": {},
   "outputs": [
    {
     "name": "stdout",
     "output_type": "stream",
     "text": [
      "0.0003616003262101672\n",
      "0.0005387143085014434\n",
      "0.0007158282907927197\n",
      "0.0008929422730839959\n",
      "0.0010700562553752724\n",
      "0.0012471702376665485\n",
      "0.0014242842199578246\n",
      "0.0016013982022491011\n",
      "0.0017785121845403772\n"
     ]
    },
    {
     "name": "stderr",
     "output_type": "stream",
     "text": [
      "d:\\118_Project\\118-Project\\Functions.py:108: IntegrationWarning: The integral is probably divergent, or slowly convergent.\n",
      "  I1 = scint.quad(Imf1,z0,z, weight = 'sin', wvar = dk,limit=10000)\n"
     ]
    },
    {
     "name": "stdout",
     "output_type": "stream",
     "text": [
      "0.0019556261668316538\n"
     ]
    },
    {
     "name": "stderr",
     "output_type": "stream",
     "text": [
      "d:\\118_Project\\118-Project\\Functions.py:108: IntegrationWarning: The integral is probably divergent, or slowly convergent.\n",
      "  I1 = scint.quad(Imf1,z0,z, weight = 'sin', wvar = dk,limit=10000)\n"
     ]
    },
    {
     "name": "stdout",
     "output_type": "stream",
     "text": [
      "0.00213274014912293\n",
      "0.002309854131414206\n",
      "0.002486968113705482\n",
      "0.0026640820959967586\n",
      "0.0028411960782880347\n",
      "0.0030183100605793113\n"
     ]
    },
    {
     "name": "stderr",
     "output_type": "stream",
     "text": [
      "d:\\118_Project\\118-Project\\Functions.py:108: IntegrationWarning: The integral is probably divergent, or slowly convergent.\n",
      "  I1 = scint.quad(Imf1,z0,z, weight = 'sin', wvar = dk,limit=10000)\n"
     ]
    },
    {
     "name": "stdout",
     "output_type": "stream",
     "text": [
      "0.0031954240428705874\n"
     ]
    },
    {
     "name": "stderr",
     "output_type": "stream",
     "text": [
      "d:\\118_Project\\118-Project\\Functions.py:108: IntegrationWarning: The integral is probably divergent, or slowly convergent.\n",
      "  I1 = scint.quad(Imf1,z0,z, weight = 'sin', wvar = dk,limit=10000)\n"
     ]
    },
    {
     "name": "stdout",
     "output_type": "stream",
     "text": [
      "0.0033725380251618635\n"
     ]
    },
    {
     "name": "stderr",
     "output_type": "stream",
     "text": [
      "d:\\118_Project\\118-Project\\Functions.py:108: IntegrationWarning: The integral is probably divergent, or slowly convergent.\n",
      "  I1 = scint.quad(Imf1,z0,z, weight = 'sin', wvar = dk,limit=10000)\n"
     ]
    },
    {
     "name": "stdout",
     "output_type": "stream",
     "text": [
      "0.00354965200745314\n"
     ]
    },
    {
     "name": "stderr",
     "output_type": "stream",
     "text": [
      "d:\\118_Project\\118-Project\\Functions.py:108: IntegrationWarning: The integral is probably divergent, or slowly convergent.\n",
      "  I1 = scint.quad(Imf1,z0,z, weight = 'sin', wvar = dk,limit=10000)\n"
     ]
    },
    {
     "name": "stdout",
     "output_type": "stream",
     "text": [
      "0.003726765989744416\n"
     ]
    },
    {
     "name": "stderr",
     "output_type": "stream",
     "text": [
      "d:\\118_Project\\118-Project\\Functions.py:108: IntegrationWarning: The integral is probably divergent, or slowly convergent.\n",
      "  I1 = scint.quad(Imf1,z0,z, weight = 'sin', wvar = dk,limit=10000)\n"
     ]
    },
    {
     "name": "stdout",
     "output_type": "stream",
     "text": [
      "0.0039038799720356927\n"
     ]
    },
    {
     "name": "stderr",
     "output_type": "stream",
     "text": [
      "d:\\118_Project\\118-Project\\Functions.py:108: IntegrationWarning: The integral is probably divergent, or slowly convergent.\n",
      "  I1 = scint.quad(Imf1,z0,z, weight = 'sin', wvar = dk,limit=10000)\n"
     ]
    },
    {
     "name": "stdout",
     "output_type": "stream",
     "text": [
      "0.004080993954326969\n"
     ]
    },
    {
     "name": "stderr",
     "output_type": "stream",
     "text": [
      "d:\\118_Project\\118-Project\\Functions.py:108: IntegrationWarning: The integral is probably divergent, or slowly convergent.\n",
      "  I1 = scint.quad(Imf1,z0,z, weight = 'sin', wvar = dk,limit=10000)\n"
     ]
    },
    {
     "name": "stdout",
     "output_type": "stream",
     "text": [
      "0.004258107936618245\n"
     ]
    },
    {
     "name": "stderr",
     "output_type": "stream",
     "text": [
      "d:\\118_Project\\118-Project\\Functions.py:108: IntegrationWarning: The integral is probably divergent, or slowly convergent.\n",
      "  I1 = scint.quad(Imf1,z0,z, weight = 'sin', wvar = dk,limit=10000)\n"
     ]
    },
    {
     "name": "stdout",
     "output_type": "stream",
     "text": [
      "0.004435221918909522\n"
     ]
    },
    {
     "name": "stderr",
     "output_type": "stream",
     "text": [
      "d:\\118_Project\\118-Project\\Functions.py:108: IntegrationWarning: The integral is probably divergent, or slowly convergent.\n",
      "  I1 = scint.quad(Imf1,z0,z, weight = 'sin', wvar = dk,limit=10000)\n"
     ]
    },
    {
     "name": "stdout",
     "output_type": "stream",
     "text": [
      "0.0046123359012007975\n"
     ]
    },
    {
     "name": "stderr",
     "output_type": "stream",
     "text": [
      "d:\\118_Project\\118-Project\\Functions.py:108: IntegrationWarning: The integral is probably divergent, or slowly convergent.\n",
      "  I1 = scint.quad(Imf1,z0,z, weight = 'sin', wvar = dk,limit=10000)\n"
     ]
    },
    {
     "name": "stdout",
     "output_type": "stream",
     "text": [
      "0.004789449883492074\n"
     ]
    },
    {
     "name": "stderr",
     "output_type": "stream",
     "text": [
      "d:\\118_Project\\118-Project\\Functions.py:108: IntegrationWarning: The integral is probably divergent, or slowly convergent.\n",
      "  I1 = scint.quad(Imf1,z0,z, weight = 'sin', wvar = dk,limit=10000)\n"
     ]
    },
    {
     "name": "stdout",
     "output_type": "stream",
     "text": [
      "0.004966563865783351\n"
     ]
    },
    {
     "name": "stderr",
     "output_type": "stream",
     "text": [
      "d:\\118_Project\\118-Project\\Functions.py:108: IntegrationWarning: The integral is probably divergent, or slowly convergent.\n",
      "  I1 = scint.quad(Imf1,z0,z, weight = 'sin', wvar = dk,limit=10000)\n"
     ]
    },
    {
     "name": "stdout",
     "output_type": "stream",
     "text": [
      "0.005143677848074627\n"
     ]
    },
    {
     "name": "stderr",
     "output_type": "stream",
     "text": [
      "d:\\118_Project\\118-Project\\Functions.py:108: IntegrationWarning: The integral is probably divergent, or slowly convergent.\n",
      "  I1 = scint.quad(Imf1,z0,z, weight = 'sin', wvar = dk,limit=10000)\n"
     ]
    },
    {
     "name": "stdout",
     "output_type": "stream",
     "text": [
      "0.005320791830365903\n"
     ]
    },
    {
     "name": "stderr",
     "output_type": "stream",
     "text": [
      "d:\\118_Project\\118-Project\\Functions.py:108: IntegrationWarning: The integral is probably divergent, or slowly convergent.\n",
      "  I1 = scint.quad(Imf1,z0,z, weight = 'sin', wvar = dk,limit=10000)\n"
     ]
    },
    {
     "name": "stdout",
     "output_type": "stream",
     "text": [
      "0.005497905812657179\n"
     ]
    },
    {
     "name": "stderr",
     "output_type": "stream",
     "text": [
      "d:\\118_Project\\118-Project\\Functions.py:108: IntegrationWarning: The integral is probably divergent, or slowly convergent.\n",
      "  I1 = scint.quad(Imf1,z0,z, weight = 'sin', wvar = dk,limit=10000)\n"
     ]
    },
    {
     "name": "stdout",
     "output_type": "stream",
     "text": [
      "0.005675019794948456\n"
     ]
    },
    {
     "name": "stderr",
     "output_type": "stream",
     "text": [
      "d:\\118_Project\\118-Project\\Functions.py:108: IntegrationWarning: The integral is probably divergent, or slowly convergent.\n",
      "  I1 = scint.quad(Imf1,z0,z, weight = 'sin', wvar = dk,limit=10000)\n"
     ]
    },
    {
     "name": "stdout",
     "output_type": "stream",
     "text": [
      "0.005852133777239732\n"
     ]
    },
    {
     "name": "stderr",
     "output_type": "stream",
     "text": [
      "d:\\118_Project\\118-Project\\Functions.py:108: IntegrationWarning: The integral is probably divergent, or slowly convergent.\n",
      "  I1 = scint.quad(Imf1,z0,z, weight = 'sin', wvar = dk,limit=10000)\n"
     ]
    },
    {
     "name": "stdout",
     "output_type": "stream",
     "text": [
      "0.006029247759531008\n"
     ]
    },
    {
     "name": "stderr",
     "output_type": "stream",
     "text": [
      "d:\\118_Project\\118-Project\\Functions.py:108: IntegrationWarning: The integral is probably divergent, or slowly convergent.\n",
      "  I1 = scint.quad(Imf1,z0,z, weight = 'sin', wvar = dk,limit=10000)\n"
     ]
    },
    {
     "name": "stdout",
     "output_type": "stream",
     "text": [
      "0.006206361741822285\n"
     ]
    },
    {
     "name": "stderr",
     "output_type": "stream",
     "text": [
      "d:\\118_Project\\118-Project\\Functions.py:108: IntegrationWarning: The integral is probably divergent, or slowly convergent.\n",
      "  I1 = scint.quad(Imf1,z0,z, weight = 'sin', wvar = dk,limit=10000)\n"
     ]
    },
    {
     "name": "stdout",
     "output_type": "stream",
     "text": [
      "0.00638347572411356\n"
     ]
    },
    {
     "name": "stderr",
     "output_type": "stream",
     "text": [
      "d:\\118_Project\\118-Project\\Functions.py:108: IntegrationWarning: The integral is probably divergent, or slowly convergent.\n",
      "  I1 = scint.quad(Imf1,z0,z, weight = 'sin', wvar = dk,limit=10000)\n"
     ]
    },
    {
     "name": "stdout",
     "output_type": "stream",
     "text": [
      "0.006560589706404837\n"
     ]
    },
    {
     "name": "stderr",
     "output_type": "stream",
     "text": [
      "d:\\118_Project\\118-Project\\Functions.py:108: IntegrationWarning: The integral is probably divergent, or slowly convergent.\n",
      "  I1 = scint.quad(Imf1,z0,z, weight = 'sin', wvar = dk,limit=10000)\n"
     ]
    },
    {
     "name": "stdout",
     "output_type": "stream",
     "text": [
      "0.006737703688696113\n",
      "0.006914817670987389\n"
     ]
    },
    {
     "name": "stderr",
     "output_type": "stream",
     "text": [
      "d:\\118_Project\\118-Project\\Functions.py:108: IntegrationWarning: The integral is probably divergent, or slowly convergent.\n",
      "  I1 = scint.quad(Imf1,z0,z, weight = 'sin', wvar = dk,limit=10000)\n"
     ]
    },
    {
     "name": "stdout",
     "output_type": "stream",
     "text": [
      "0.007091931653278666\n"
     ]
    },
    {
     "name": "stderr",
     "output_type": "stream",
     "text": [
      "d:\\118_Project\\118-Project\\Functions.py:108: IntegrationWarning: The integral is probably divergent, or slowly convergent.\n",
      "  I1 = scint.quad(Imf1,z0,z, weight = 'sin', wvar = dk,limit=10000)\n"
     ]
    },
    {
     "name": "stdout",
     "output_type": "stream",
     "text": [
      "0.007269045635569942\n",
      "0.007446159617861219\n",
      "0.007623273600152494\n",
      "0.007800387582443771\n",
      "0.007977501564735047\n",
      "0.008154615547026322\n"
     ]
    },
    {
     "name": "stderr",
     "output_type": "stream",
     "text": [
      "d:\\118_Project\\118-Project\\Functions.py:108: IntegrationWarning: The integral is probably divergent, or slowly convergent.\n",
      "  I1 = scint.quad(Imf1,z0,z, weight = 'sin', wvar = dk,limit=10000)\n"
     ]
    },
    {
     "name": "stdout",
     "output_type": "stream",
     "text": [
      "0.008331729529317598\n",
      "0.008508843511608875\n",
      "0.008685957493900151\n",
      "0.008863071476191427\n",
      "0.009040185458482704\n"
     ]
    }
   ],
   "source": [
    "scanned_WA = B_scan(params=params_WA)"
   ]
  },
  {
   "cell_type": "code",
   "execution_count": null,
   "metadata": {},
   "outputs": [
    {
     "data": {
      "image/png": "[encoded data removed]",
      "text/plain": [
       "<Figure size 640x480 with 1 Axes>"
      ]
     },
     "metadata": {},
     "output_type": "display_data"
    },
    {
     "data": {
      "text/plain": [
       "Text(0, 0.5, 'Peak 118 Signal')"
      ]
     },
     "execution_count": 7,
     "metadata": {},
     "output_type": "execute_result"
    },
    {
     "data": {
      "image/png": "[encoded data removed]",
      "text/plain": [
       "<Figure size 640x480 with 1 Axes>"
      ]
     },
     "metadata": {},
     "output_type": "display_data"
    }
   ],
   "source": [
    "plt.scatter(scanned_WA.b.data,scanned_WA.data[:,0])\n",
    "plt.xlabel('Confocal Perameter [m]')\n",
    "plt.ylabel('118 Signal')\n",
    "plt.show()\n",
    "\n",
    "bPlot = np.linspace(scanned_WA.b.data[-1],scanned_WA.b.data[0])\n",
    "\n",
    "plt.scatter(bPlot,scanned_WA.data[:,0])\n",
    "plt.xlabel('Confocal Perameter [m]')\n",
    "plt.ylabel('118 Signal')\n",
    "plt.show()\n",
    "\n",
    "\n",
    "f= b_to_f(0.5e-2,bs)*10**2 #convert to focal length in cm\n",
    "plt.scatter(f,scanned_WA.data[:,0],color = 'red')\n",
    "plt.xlabel('Focal Length [cm]')\n",
    "plt.ylabel('Peak 118 Signal')\n",
    "\n",
    "#plt.plot(f,scanned_WA.data[:,0])\n",
    "\n",
    "\n"
   ]
  },
  {
   "cell_type": "code",
   "execution_count": 8,
   "metadata": {},
   "outputs": [
    {
     "name": "stdout",
     "output_type": "stream",
     "text": [
      "optimal b value:  0.009040185458482704\n"
     ]
    }
   ],
   "source": [
    "opt_b_index = np.where(scanned_WA.data[:,0] == max(scanned_WA.data[:,0]))[0][0]\n",
    "print('optimal b value: ',scanned_WA.b.data[opt_b_index])\n"
   ]
  },
  {
   "cell_type": "code",
   "execution_count": 9,
   "metadata": {},
   "outputs": [],
   "source": [
    "\n",
    "\n",
    "sol_params_NA = {'func': curly_GBNA,\n",
    "              'initial_vals': (nonzero, nonzero),\n",
    "              'zstart': zstart,\n",
    "              'zstop': zstop,\n",
    "              'zsamples': zsamples,\n",
    "              'z': z,\n",
    "              'r': r,\n",
    "              'rstop': rstop,\n",
    "              'rsamples': rsamples}\n",
    "\n",
    "params_NA = {**pulse_params, **harm_params, **sol_params_NA}\n",
    "\n",
    "bscan = xr.DataArray(bs,\n",
    "                     dims = 'b',\n",
    "                     attrs = {'units': 'm',\n",
    "                              'long_name': \"Confocal parameter\"})\n",
    "single_func = functools.partial(calc_118_and_fluor,\n",
    "                                zrange=zrange,\n",
    "                                init_vals=[1e-10,1e-10,1e-10],\n",
    "                                t_eval=z)\n",
    "\n",
    "B_scan_NA = scan_builder(single_func, params_NA, [bscan])"
   ]
  },
  {
   "cell_type": "code",
   "execution_count": 10,
   "metadata": {},
   "outputs": [
    {
     "name": "stdout",
     "output_type": "stream",
     "text": [
      "0.0003616003262101672\n",
      "0.0005387143085014434\n",
      "0.0007158282907927197\n",
      "0.0008929422730839959\n",
      "0.0010700562553752724\n",
      "0.0012471702376665485\n",
      "0.0014242842199578246\n",
      "0.0016013982022491011\n"
     ]
    },
    {
     "name": "stderr",
     "output_type": "stream",
     "text": [
      "d:\\118_Project\\118-Project\\Functions.py:108: IntegrationWarning: The integral is probably divergent, or slowly convergent.\n",
      "  I1 = scint.quad(Imf1,z0,z, weight = 'sin', wvar = dk,limit=10000)\n"
     ]
    },
    {
     "name": "stdout",
     "output_type": "stream",
     "text": [
      "0.0017785121845403772\n",
      "0.0019556261668316538\n",
      "0.00213274014912293\n",
      "0.002309854131414206\n",
      "0.002486968113705482\n",
      "0.0026640820959967586\n"
     ]
    },
    {
     "name": "stderr",
     "output_type": "stream",
     "text": [
      "d:\\118_Project\\118-Project\\Functions.py:108: IntegrationWarning: The integral is probably divergent, or slowly convergent.\n",
      "  I1 = scint.quad(Imf1,z0,z, weight = 'sin', wvar = dk,limit=10000)\n"
     ]
    },
    {
     "name": "stdout",
     "output_type": "stream",
     "text": [
      "0.0028411960782880347\n"
     ]
    },
    {
     "name": "stderr",
     "output_type": "stream",
     "text": [
      "d:\\118_Project\\118-Project\\Functions.py:108: IntegrationWarning: The integral is probably divergent, or slowly convergent.\n",
      "  I1 = scint.quad(Imf1,z0,z, weight = 'sin', wvar = dk,limit=10000)\n"
     ]
    },
    {
     "name": "stdout",
     "output_type": "stream",
     "text": [
      "0.0030183100605793113\n",
      "0.0031954240428705874\n"
     ]
    },
    {
     "name": "stderr",
     "output_type": "stream",
     "text": [
      "d:\\118_Project\\118-Project\\Functions.py:108: IntegrationWarning: The integral is probably divergent, or slowly convergent.\n",
      "  I1 = scint.quad(Imf1,z0,z, weight = 'sin', wvar = dk,limit=10000)\n"
     ]
    },
    {
     "name": "stdout",
     "output_type": "stream",
     "text": [
      "0.0033725380251618635\n"
     ]
    },
    {
     "name": "stderr",
     "output_type": "stream",
     "text": [
      "d:\\118_Project\\118-Project\\Functions.py:108: IntegrationWarning: The integral is probably divergent, or slowly convergent.\n",
      "  I1 = scint.quad(Imf1,z0,z, weight = 'sin', wvar = dk,limit=10000)\n"
     ]
    },
    {
     "name": "stdout",
     "output_type": "stream",
     "text": [
      "0.00354965200745314\n"
     ]
    },
    {
     "name": "stderr",
     "output_type": "stream",
     "text": [
      "d:\\118_Project\\118-Project\\Functions.py:108: IntegrationWarning: The integral is probably divergent, or slowly convergent.\n",
      "  I1 = scint.quad(Imf1,z0,z, weight = 'sin', wvar = dk,limit=10000)\n"
     ]
    },
    {
     "name": "stdout",
     "output_type": "stream",
     "text": [
      "0.003726765989744416\n"
     ]
    },
    {
     "name": "stderr",
     "output_type": "stream",
     "text": [
      "d:\\118_Project\\118-Project\\Functions.py:108: IntegrationWarning: The integral is probably divergent, or slowly convergent.\n",
      "  I1 = scint.quad(Imf1,z0,z, weight = 'sin', wvar = dk,limit=10000)\n"
     ]
    },
    {
     "name": "stdout",
     "output_type": "stream",
     "text": [
      "0.0039038799720356927\n"
     ]
    },
    {
     "name": "stderr",
     "output_type": "stream",
     "text": [
      "d:\\118_Project\\118-Project\\Functions.py:108: IntegrationWarning: The integral is probably divergent, or slowly convergent.\n",
      "  I1 = scint.quad(Imf1,z0,z, weight = 'sin', wvar = dk,limit=10000)\n"
     ]
    },
    {
     "name": "stdout",
     "output_type": "stream",
     "text": [
      "0.004080993954326969\n"
     ]
    },
    {
     "name": "stderr",
     "output_type": "stream",
     "text": [
      "d:\\118_Project\\118-Project\\Functions.py:108: IntegrationWarning: The integral is probably divergent, or slowly convergent.\n",
      "  I1 = scint.quad(Imf1,z0,z, weight = 'sin', wvar = dk,limit=10000)\n"
     ]
    },
    {
     "name": "stdout",
     "output_type": "stream",
     "text": [
      "0.004258107936618245\n"
     ]
    },
    {
     "name": "stderr",
     "output_type": "stream",
     "text": [
      "d:\\118_Project\\118-Project\\Functions.py:108: IntegrationWarning: The integral is probably divergent, or slowly convergent.\n",
      "  I1 = scint.quad(Imf1,z0,z, weight = 'sin', wvar = dk,limit=10000)\n"
     ]
    },
    {
     "name": "stdout",
     "output_type": "stream",
     "text": [
      "0.004435221918909522\n"
     ]
    },
    {
     "name": "stderr",
     "output_type": "stream",
     "text": [
      "d:\\118_Project\\118-Project\\Functions.py:108: IntegrationWarning: The integral is probably divergent, or slowly convergent.\n",
      "  I1 = scint.quad(Imf1,z0,z, weight = 'sin', wvar = dk,limit=10000)\n"
     ]
    },
    {
     "name": "stdout",
     "output_type": "stream",
     "text": [
      "0.0046123359012007975\n"
     ]
    },
    {
     "name": "stderr",
     "output_type": "stream",
     "text": [
      "d:\\118_Project\\118-Project\\Functions.py:108: IntegrationWarning: The integral is probably divergent, or slowly convergent.\n",
      "  I1 = scint.quad(Imf1,z0,z, weight = 'sin', wvar = dk,limit=10000)\n"
     ]
    },
    {
     "name": "stdout",
     "output_type": "stream",
     "text": [
      "0.004789449883492074\n"
     ]
    },
    {
     "name": "stderr",
     "output_type": "stream",
     "text": [
      "d:\\118_Project\\118-Project\\Functions.py:108: IntegrationWarning: The integral is probably divergent, or slowly convergent.\n",
      "  I1 = scint.quad(Imf1,z0,z, weight = 'sin', wvar = dk,limit=10000)\n"
     ]
    },
    {
     "name": "stdout",
     "output_type": "stream",
     "text": [
      "0.004966563865783351\n"
     ]
    },
    {
     "name": "stderr",
     "output_type": "stream",
     "text": [
      "d:\\118_Project\\118-Project\\Functions.py:108: IntegrationWarning: The integral is probably divergent, or slowly convergent.\n",
      "  I1 = scint.quad(Imf1,z0,z, weight = 'sin', wvar = dk,limit=10000)\n"
     ]
    },
    {
     "name": "stdout",
     "output_type": "stream",
     "text": [
      "0.005143677848074627\n"
     ]
    },
    {
     "name": "stderr",
     "output_type": "stream",
     "text": [
      "d:\\118_Project\\118-Project\\Functions.py:108: IntegrationWarning: The integral is probably divergent, or slowly convergent.\n",
      "  I1 = scint.quad(Imf1,z0,z, weight = 'sin', wvar = dk,limit=10000)\n"
     ]
    },
    {
     "name": "stdout",
     "output_type": "stream",
     "text": [
      "0.005320791830365903\n"
     ]
    },
    {
     "name": "stderr",
     "output_type": "stream",
     "text": [
      "d:\\118_Project\\118-Project\\Functions.py:108: IntegrationWarning: The integral is probably divergent, or slowly convergent.\n",
      "  I1 = scint.quad(Imf1,z0,z, weight = 'sin', wvar = dk,limit=10000)\n"
     ]
    },
    {
     "name": "stdout",
     "output_type": "stream",
     "text": [
      "0.005497905812657179\n",
      "0.005675019794948456\n"
     ]
    },
    {
     "name": "stderr",
     "output_type": "stream",
     "text": [
      "d:\\118_Project\\118-Project\\Functions.py:108: IntegrationWarning: The integral is probably divergent, or slowly convergent.\n",
      "  I1 = scint.quad(Imf1,z0,z, weight = 'sin', wvar = dk,limit=10000)\n"
     ]
    },
    {
     "name": "stdout",
     "output_type": "stream",
     "text": [
      "0.005852133777239732\n"
     ]
    },
    {
     "name": "stderr",
     "output_type": "stream",
     "text": [
      "d:\\118_Project\\118-Project\\Functions.py:108: IntegrationWarning: The integral is probably divergent, or slowly convergent.\n",
      "  I1 = scint.quad(Imf1,z0,z, weight = 'sin', wvar = dk,limit=10000)\n"
     ]
    },
    {
     "name": "stdout",
     "output_type": "stream",
     "text": [
      "0.006029247759531008\n"
     ]
    },
    {
     "name": "stderr",
     "output_type": "stream",
     "text": [
      "d:\\118_Project\\118-Project\\Functions.py:108: IntegrationWarning: The integral is probably divergent, or slowly convergent.\n",
      "  I1 = scint.quad(Imf1,z0,z, weight = 'sin', wvar = dk,limit=10000)\n"
     ]
    },
    {
     "name": "stdout",
     "output_type": "stream",
     "text": [
      "0.006206361741822285\n"
     ]
    },
    {
     "name": "stderr",
     "output_type": "stream",
     "text": [
      "d:\\118_Project\\118-Project\\Functions.py:108: IntegrationWarning: The integral is probably divergent, or slowly convergent.\n",
      "  I1 = scint.quad(Imf1,z0,z, weight = 'sin', wvar = dk,limit=10000)\n"
     ]
    },
    {
     "name": "stdout",
     "output_type": "stream",
     "text": [
      "0.00638347572411356\n"
     ]
    },
    {
     "name": "stderr",
     "output_type": "stream",
     "text": [
      "d:\\118_Project\\118-Project\\Functions.py:108: IntegrationWarning: The integral is probably divergent, or slowly convergent.\n",
      "  I1 = scint.quad(Imf1,z0,z, weight = 'sin', wvar = dk,limit=10000)\n"
     ]
    },
    {
     "name": "stdout",
     "output_type": "stream",
     "text": [
      "0.006560589706404837\n",
      "0.006737703688696113\n"
     ]
    },
    {
     "name": "stderr",
     "output_type": "stream",
     "text": [
      "d:\\118_Project\\118-Project\\Functions.py:108: IntegrationWarning: The integral is probably divergent, or slowly convergent.\n",
      "  I1 = scint.quad(Imf1,z0,z, weight = 'sin', wvar = dk,limit=10000)\n"
     ]
    },
    {
     "name": "stdout",
     "output_type": "stream",
     "text": [
      "0.006914817670987389\n"
     ]
    },
    {
     "name": "stderr",
     "output_type": "stream",
     "text": [
      "d:\\118_Project\\118-Project\\Functions.py:108: IntegrationWarning: The integral is probably divergent, or slowly convergent.\n",
      "  I1 = scint.quad(Imf1,z0,z, weight = 'sin', wvar = dk,limit=10000)\n"
     ]
    },
    {
     "name": "stdout",
     "output_type": "stream",
     "text": [
      "0.007091931653278666\n",
      "0.007269045635569942\n",
      "0.007446159617861219\n",
      "0.007623273600152494\n",
      "0.007800387582443771\n"
     ]
    },
    {
     "name": "stderr",
     "output_type": "stream",
     "text": [
      "d:\\118_Project\\118-Project\\Functions.py:108: IntegrationWarning: The integral is probably divergent, or slowly convergent.\n",
      "  I1 = scint.quad(Imf1,z0,z, weight = 'sin', wvar = dk,limit=10000)\n"
     ]
    },
    {
     "name": "stdout",
     "output_type": "stream",
     "text": [
      "0.007977501564735047\n",
      "0.008154615547026322\n"
     ]
    },
    {
     "name": "stderr",
     "output_type": "stream",
     "text": [
      "d:\\118_Project\\118-Project\\Functions.py:108: IntegrationWarning: The integral is probably divergent, or slowly convergent.\n",
      "  I1 = scint.quad(Imf1,z0,z, weight = 'sin', wvar = dk,limit=10000)\n"
     ]
    },
    {
     "name": "stdout",
     "output_type": "stream",
     "text": [
      "0.008331729529317598\n"
     ]
    },
    {
     "name": "stderr",
     "output_type": "stream",
     "text": [
      "d:\\118_Project\\118-Project\\Functions.py:108: IntegrationWarning: The integral is probably divergent, or slowly convergent.\n",
      "  I1 = scint.quad(Imf1,z0,z, weight = 'sin', wvar = dk,limit=10000)\n"
     ]
    },
    {
     "name": "stdout",
     "output_type": "stream",
     "text": [
      "0.008508843511608875\n",
      "0.008685957493900151\n",
      "0.008863071476191427\n"
     ]
    },
    {
     "name": "stderr",
     "output_type": "stream",
     "text": [
      "d:\\118_Project\\118-Project\\Functions.py:108: IntegrationWarning: The integral is probably divergent, or slowly convergent.\n",
      "  I1 = scint.quad(Imf1,z0,z, weight = 'sin', wvar = dk,limit=10000)\n"
     ]
    },
    {
     "name": "stdout",
     "output_type": "stream",
     "text": [
      "0.009040185458482704\n"
     ]
    }
   ],
   "source": [
    "scanned_NA = B_scan_NA(params=params_NA)"
   ]
  },
  {
   "cell_type": "code",
   "execution_count": 11,
   "metadata": {},
   "outputs": [
    {
     "data": {
      "image/png": "[encoded data removed]",
      "text/plain": [
       "<Figure size 640x480 with 1 Axes>"
      ]
     },
     "metadata": {},
     "output_type": "display_data"
    },
    {
     "data": {
      "text/plain": [
       "Text(0, 0.5, 'Peak 118 Signal')"
      ]
     },
     "execution_count": 11,
     "metadata": {},
     "output_type": "execute_result"
    },
    {
     "data": {
      "image/png": "[encoded data removed]",
      "text/plain": [
       "<Figure size 640x480 with 1 Axes>"
      ]
     },
     "metadata": {},
     "output_type": "display_data"
    }
   ],
   "source": [
    "plt.scatter(scanned_NA.b.data,scanned_NA.data[:,0])\n",
    "plt.xlabel('Confocal Perameter [m]')\n",
    "plt.ylabel('118 Signal')\n",
    "plt.title('Optimal b = 0.136 [m]')\n",
    "plt.show()\n",
    "\n",
    "f= b_to_f(0.5e-2,bs)*10**2 #convert to focal length in cm\n",
    "\n",
    "plt.scatter(f,scanned_NA.data[:,0])\n",
    "plt.xlabel('Focal Length [cm]')\n",
    "plt.ylabel('Peak 118 Signal')\n",
    "\n",
    "#plt.plot(f,scanned_WA.data[:,0])\n",
    "\n"
   ]
  },
  {
   "cell_type": "code",
   "execution_count": 12,
   "metadata": {},
   "outputs": [
    {
     "name": "stdout",
     "output_type": "stream",
     "text": [
      "0.009040185458482704\n"
     ]
    }
   ],
   "source": [
    "opt_b_index_NA = np.where(scanned_NA.data[:,0] == max(scanned_NA.data[:,0]))[0][0]\n",
    "print(scanned_NA.b.data[opt_b_index_NA])"
   ]
  },
  {
   "cell_type": "code",
   "execution_count": 13,
   "metadata": {},
   "outputs": [
    {
     "data": {
      "text/plain": [
       "0.4999999999990347"
      ]
     },
     "execution_count": 13,
     "metadata": {},
     "output_type": "execute_result"
    }
   ],
   "source": [
    "omega_initial = 0.5e-2\n",
    "b_final = 0.4\n",
    "\n",
    "b_to_f(omega_initial,0.002260011735083854)"
   ]
  },
  {
   "cell_type": "code",
   "execution_count": 14,
   "metadata": {},
   "outputs": [
    {
     "name": "stdout",
     "output_type": "stream",
     "text": [
      "442.47783853377365\n"
     ]
    }
   ],
   "source": [
    "k_355 = 2*np.pi/lambda_355\n",
    "b_yag = k_355*omega_initial**2\n",
    "print(b_yag)"
   ]
  },
  {
   "cell_type": "code",
   "execution_count": 15,
   "metadata": {},
   "outputs": [
    {
     "data": {
      "text/plain": [
       "5.107600867410249e-10"
      ]
     },
     "execution_count": 15,
     "metadata": {},
     "output_type": "execute_result"
    }
   ],
   "source": [
    "(2*omega_initial/b_yag)**2"
   ]
  },
  {
   "cell_type": "code",
   "execution_count": 16,
   "metadata": {},
   "outputs": [
    {
     "name": "stdout",
     "output_type": "stream",
     "text": [
      "AFTER THIN LENS:\n",
      "positon relative to focus:  -0.9999795700139232 [m]\n",
      "beam spot size:  0.005 [m]\n",
      "AT FOCUS:\n",
      "positon relative to focus:  0.0 [m]\n",
      "beam spot size:  2.2599771059007745e-05 [m]\n"
     ]
    }
   ],
   "source": [
    "zR_yag = b_yag/2\n",
    "q_yag = complex(0,zR_yag)\n",
    "params = {'lambda':lambda_355}\n",
    "q_lens1=thin_lens(q_yag,100e-2)\n",
    "print('AFTER THIN LENS:')\n",
    "q_to_params(q_lens1,params)\n",
    "q_focus1=free_space(q_lens1,0.9999795700139232)\n",
    "print('AT FOCUS:')\n",
    "q_to_params(q_focus1,params)\n"
   ]
  },
  {
   "cell_type": "code",
   "execution_count": 17,
   "metadata": {},
   "outputs": [
    {
     "name": "stdout",
     "output_type": "stream",
     "text": [
      "0.009039816080529837\n"
     ]
    }
   ],
   "source": [
    "omega0_lens1 = 2.2599771059007745e-05\n",
    "\n",
    "b_lens1 = k_355*omega0_lens1**2\n",
    "print(b_lens1)"
   ]
  },
  {
   "cell_type": "code",
   "execution_count": 18,
   "metadata": {},
   "outputs": [
    {
     "data": {
      "text/plain": [
       "1.1227886160586296"
      ]
     },
     "execution_count": 18,
     "metadata": {},
     "output_type": "execute_result"
    }
   ],
   "source": [
    "b_to_f(2.2599771059007745e-05,0.4)*100"
   ]
  },
  {
   "cell_type": "code",
   "execution_count": 19,
   "metadata": {},
   "outputs": [
    {
     "data": {
      "text/plain": [
       "6.648898856980159"
      ]
     },
     "execution_count": 19,
     "metadata": {},
     "output_type": "execute_result"
    }
   ],
   "source": [
    "b_to_f(0.5e-2,0.4)"
   ]
  },
  {
   "cell_type": "code",
   "execution_count": 20,
   "metadata": {},
   "outputs": [
    {
     "data": {
      "text/plain": [
       "0.5128420274853751"
      ]
     },
     "execution_count": 20,
     "metadata": {},
     "output_type": "execute_result"
    }
   ],
   "source": [
    "f_to_b(2.2599771059007745e-05,1.2e-2)"
   ]
  },
  {
   "cell_type": "code",
   "execution_count": null,
   "metadata": {},
   "outputs": [],
   "source": []
  }
 ],
 "metadata": {
  "kernelspec": {
   "display_name": "base",
   "language": "python",
   "name": "python3"
  },
  "language_info": {
   "codemirror_mode": {
    "name": "ipython",
    "version": 3
   },
   "file_extension": ".py",
   "mimetype": "text/x-python",
   "name": "python",
   "nbconvert_exporter": "python",
   "pygments_lexer": "ipython3",
   "version": "3.11.5"
  }
 },
 "nbformat": 4,
 "nbformat_minor": 2
}
